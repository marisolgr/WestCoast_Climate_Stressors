{
 "cells": [
  {
   "cell_type": "markdown",
   "metadata": {},
   "source": [
    "# Calculate robusteness from pi control runs"
   ]
  },
  {
   "cell_type": "code",
   "execution_count": 399,
   "metadata": {},
   "outputs": [],
   "source": [
    "# Some definitions\n",
    "\n",
    "# directory of data\n",
    "#fdir = '~/Google Drive/professional/research/FARALLON_INSTITUTE_PROJECTS/2020 NOAA MAPP/Climate_extremes_sharedfigsandcode/data/FOR SCATTER PLOT/'\n",
    "fdir = '/Volumes/GoogleDrive/My Drive/Climate_extremes_sharedfigsandcode/data/FOR SCATTER PLOT/'"
   ]
  },
  {
   "cell_type": "code",
   "execution_count": 400,
   "metadata": {},
   "outputs": [],
   "source": [
    "# Modules\n",
    "import xarray as xr\n",
    "import numpy as np\n",
    "import pandas as pd\n",
    "import matplotlib.pyplot as plt\n",
    "import warnings\n",
    "warnings.simplefilter('ignore') #filter some warning messages\n",
    "import seaborn as sns"
   ]
  },
  {
   "cell_type": "code",
   "execution_count": 403,
   "metadata": {},
   "outputs": [],
   "source": [
    "def num_coevents(y1, y2, pct1, pct2, runs='picontrol'):\n",
    "    # \n",
    "    fin1 = fdir+'anomaly ts/'+runs+'_sst_anom.nc'\n",
    "    fin2 = fdir+'anomaly ts/'+runs+'_sm_anom.nc'\n",
    "    modsst = xr.open_dataset(fin1)\n",
    "    modsst.close()\n",
    "    modsm2 = xr.open_dataset(fin2)\n",
    "    modsm2.close()\n",
    "    \n",
    "    models = modsm2.model\n",
    "\n",
    "    # selec periood\n",
    "    modsst = modsst.sel(year=slice(y1,y2))\n",
    "    modsm2 = modsm2.sel(year=slice(y1,y2))\n",
    "    \n",
    "    nev = list()\n",
    "    \n",
    "    for ix,i in enumerate(models):\n",
    "        #print(ix,i)\n",
    "        tmp1= modsst.sel(model=i).sst.values\n",
    "        tmp2= modsm2.sel(model=i).sm.values\n",
    "    \n",
    "        # calculate threshold\n",
    "        mhw_thr = np.nanpercentile(tmp1,pct1)\n",
    "        drg_thr = np.nanpercentile(tmp2,pct2)\n",
    "    \n",
    "        a1 = tmp1>=mhw_thr\n",
    "        a2 = tmp2<=drg_thr\n",
    "        \n",
    "        tmp = np.full((len(modsst.year.values),1),1)\n",
    "        tmp = tmp[a1*a2]\n",
    "    \n",
    "        nev.append(len(tmp)) #/(y2-y1+1)) #freq.\n",
    "        \n",
    "    return nev  # sum(nev)"
   ]
  },
  {
   "cell_type": "code",
   "execution_count": 404,
   "metadata": {},
   "outputs": [
    {
     "data": {
      "text/plain": [
       "([[0, 0, 0, 0, 0, 0, 0, 0, 0, 0, 0, 0, 0, 0, 0, 0, 0, 0, 0, 0, 0, 0],\n",
       "  [0, 0, 0, 0, 0, 0, 0, 0, 0, 0, 0, 0, 0, 0, 0, 0, 0, 0, 0, 0, 0, 0],\n",
       "  [0, 0, 0, 0, 0, 0, 0, 0, 1, 0, 0, 0, 0, 0, 0, 0, 0, 0, 0, 0, 1, 0],\n",
       "  [0, 1, 0, 0, 0, 0, 0, 0, 0, 0, 0, 1, 0, 0, 1, 0, 0, 1, 0, 0, 1, 1],\n",
       "  [0, 0, 1, 1, 0, 0, 1, 1, 0, 0, 0, 0, 0, 0, 1, 0, 0, 0, 0, 0, 1, 0],\n",
       "  [0, 0, 1, 0, 1, 0, 1, 1, 0, 0, 1, 0, 0, 1, 1, 0, 0, 0, 1, 1, 0, 0],\n",
       "  [0, 0, 0, 0, 1, 0, 0, 2, 0, 0, 0, 0, 0, 0, 0, 0, 0, 0, 0, 1, 0, 0],\n",
       "  [0, 0, 0, 0, 0, 0, 1, 1, 0, 0, 1, 0, 0, 0, 0, 1, 0, 0, 1, 0, 0, 1],\n",
       "  [0, 0, 1, 0, 0, 0, 0, 0, 0, 0, 1, 0, 1, 0, 0, 0, 1, 0, 1, 0, 0, 0],\n",
       "  [0, 0, 0, 0, 0, 0, 0, 0, 0, 0, 0, 0, 0, 0, 0, 0, 0, 0, 0, 0, 0, 0],\n",
       "  [0, 0, 0, 0, 0, 0, 0, 0, 0, 0, 0, 0, 0, 0, 0, 0, 0, 0, 0, 0, 0, 0],\n",
       "  [0, 0, 0, 0, 0, 0, 1, 1, 0, 0, 0, 0, 1, 0, 0, 1, 0, 0, 0, 0, 1, 0],\n",
       "  [0, 0, 0, 0, 1, 0, 1, 1, 0, 0, 0, 1, 0, 1, 0, 1, 0, 0, 1, 0, 0, 0],\n",
       "  [0, 0, 0, 0, 0, 1, 0, 0, 1, 0, 1, 0, 0, 1, 0, 0, 0, 1, 0, 1, 0, 0],\n",
       "  [0, 0, 0, 1, 1, 0, 0, 0, 0, 0, 0, 0, 0, 0, 0, 0, 0, 0, 0, 0, 0, 1],\n",
       "  [1, 1, 0, 0, 0, 0, 0, 0, 1, 0, 0, 1, 2, 0, 0, 0, 0, 0, 0, 0, 0, 1]],\n",
       " 0.1875)"
      ]
     },
     "execution_count": 404,
     "metadata": {},
     "output_type": "execute_result"
    }
   ],
   "source": [
    "ny = 30\n",
    "prc1 = 90\n",
    "prc2 = 10\n",
    "\n",
    "pinev=list()\n",
    "for i in range(int(502/ny)):\n",
    "    nev = num_coevents(i*ny, (i+1)*ny-1, prc1 , prc2)\n",
    "    pinev.append(nev)\n",
    "pinev,np.mean(pinev) "
   ]
  },
  {
   "cell_type": "code",
   "execution_count": 405,
   "metadata": {},
   "outputs": [],
   "source": [
    "#model by model"
   ]
  },
  {
   "cell_type": "code",
   "execution_count": 406,
   "metadata": {},
   "outputs": [
    {
     "data": {
      "text/plain": [
       "array([0.0625, 0.125 , 0.1875, 0.125 , 0.25  , 0.0625, 0.3125, 0.4375,\n",
       "       0.1875, 0.    , 0.25  , 0.1875, 0.25  , 0.1875, 0.1875, 0.1875,\n",
       "       0.0625, 0.125 , 0.25  , 0.1875, 0.25  , 0.25  ])"
      ]
     },
     "execution_count": 406,
     "metadata": {},
     "output_type": "execute_result"
    }
   ],
   "source": [
    "model_mean=np.mean(pinev,axis=0)\n",
    "model_spread=np.std(pinev,axis=0)\n",
    "model_mean"
   ]
  },
  {
   "cell_type": "code",
   "execution_count": 407,
   "metadata": {},
   "outputs": [],
   "source": [
    "#16 30-yr periods MMEs"
   ]
  },
  {
   "cell_type": "code",
   "execution_count": 408,
   "metadata": {},
   "outputs": [
    {
     "data": {
      "text/plain": [
       "(array([0.        , 0.        , 0.09090909, 0.27272727, 0.27272727,\n",
       "        0.40909091, 0.18181818, 0.27272727, 0.22727273, 0.        ,\n",
       "        0.        , 0.22727273, 0.31818182, 0.27272727, 0.13636364,\n",
       "        0.31818182]),\n",
       " 0.32825512607124546)"
      ]
     },
     "execution_count": 408,
     "metadata": {},
     "output_type": "execute_result"
    }
   ],
   "source": [
    "mme_mean=np.mean(pinev,axis=1)\n",
    "mme_spread=np.std(pinev,axis=1)\n",
    "#internal variability mean and spread\n",
    "mme_mean,np.mean(mme_spread)"
   ]
  },
  {
   "cell_type": "code",
   "execution_count": 409,
   "metadata": {},
   "outputs": [],
   "source": [
    "#MME mean and spread"
   ]
  },
  {
   "cell_type": "code",
   "execution_count": 410,
   "metadata": {},
   "outputs": [
    {
     "data": {
      "text/plain": [
       "(0.1875, 0.12944074715789225)"
      ]
     },
     "execution_count": 410,
     "metadata": {},
     "output_type": "execute_result"
    }
   ],
   "source": [
    "mme_model_mean=np.mean(mme_mean)\n",
    "mme_model_spread=np.std(mme_mean)\n",
    "mme_model_mean,mme_model_spread"
   ]
  },
  {
   "cell_type": "code",
   "execution_count": 411,
   "metadata": {},
   "outputs": [],
   "source": [
    "#cross model mean and spread"
   ]
  },
  {
   "cell_type": "code",
   "execution_count": 412,
   "metadata": {},
   "outputs": [
    {
     "data": {
      "text/plain": [
       "(0.1875, 0.09422229518055114)"
      ]
     },
     "execution_count": 412,
     "metadata": {},
     "output_type": "execute_result"
    }
   ],
   "source": [
    "cross_model_mean=np.mean(model_mean)\n",
    "cross_model_spread=np.std(model_mean)\n",
    "cross_model_mean,cross_model_spread"
   ]
  },
  {
   "cell_type": "code",
   "execution_count": null,
   "metadata": {},
   "outputs": [],
   "source": []
  },
  {
   "cell_type": "code",
   "execution_count": 413,
   "metadata": {},
   "outputs": [],
   "source": [
    "## Calculate thresholds for PI Control runs"
   ]
  },
  {
   "cell_type": "code",
   "execution_count": 414,
   "metadata": {},
   "outputs": [],
   "source": [
    "def get_thre(y1,y2,prc1,prc2):\n",
    "    # open data: anomalies (without trend)\n",
    "\n",
    "    modsst = xr.open_dataset(fdir+'anomaly ts/picontrol_sst_anom.nc')\n",
    "    modsst.close()\n",
    "    modsm2 = xr.open_dataset(fdir+'anomaly ts/picontrol_sm_anom.nc')\n",
    "    modsm2.close()\n",
    "\n",
    "    # select period \n",
    "    modsst = modsst.sel(year=slice(y1,y2))\n",
    "    modsm2 = modsm2.sel(year=slice(y1,y2))\n",
    "    mhw_thr = list()\n",
    "    drg_thr = list()\n",
    "    models = list()\n",
    "\n",
    "    # Calculate thresholds for each model\n",
    "    for ix,i in enumerate(modsm2.model.values):\n",
    "        tmp1= modsst.sel(model=i).sst.values\n",
    "        tmp2= modsm2.sel(model=i).sm.values\n",
    "        \n",
    "        mhw_thr.append(np.nanpercentile(tmp1,prc1))\n",
    "        drg_thr.append(np.nanpercentile(tmp2,prc2))\n",
    "\n",
    "        models.append(i)\n",
    "    \n",
    "    return mhw_thr, drg_thr , models"
   ]
  },
  {
   "cell_type": "code",
   "execution_count": 419,
   "metadata": {},
   "outputs": [],
   "source": [
    "# calculate number of events for control, historical and future\n",
    "# based on pi control thresholds\n",
    "\n",
    "def freq_coevents(fdir, runs, mhw_thr, drg_thr, models, y1, y2):\n",
    "    #pi control\n",
    "    fi1 = fdir+'anomaly ts/'+runs+'_sst_anom.nc'\n",
    "    fi2 = fdir+'anomaly ts/'+runs+'_sm_anom.nc'\n",
    "    modsst = xr.open_dataset(fi1)\n",
    "    modsst.close()\n",
    "    modsm2 = xr.open_dataset(fi2)\n",
    "    modsm2.close()\n",
    "    models=modsm2.model\n",
    "\n",
    "    # select period\n",
    "    modsst = modsst.sel(year=slice(y1,y2))\n",
    "    modsm2 = modsm2.sel(year=slice(y1,y2))\n",
    "\n",
    "    nev = list()\n",
    "\n",
    "    for ix,i in enumerate(models):\n",
    "        #print(ix,i)\n",
    "        tmp1= modsst.sel(model=i).sst.values\n",
    "        tmp2= modsm2.sel(model=i).sm.values\n",
    "\n",
    "        a1 = tmp1>=mhw_thr[ix]\n",
    "        a2 = tmp2<=drg_thr[ix]\n",
    "        tmp = np.full((len(modsst.year.values),1),1)\n",
    "        tmp = tmp[a1*a2]\n",
    "\n",
    "        nev.append(len(tmp))\n",
    "    \n",
    "    freq = np.array(nev) #/(y2-y1+1)\n",
    "    \n",
    "    return nev, np.round(np.nanmean(nev),4), np.round(np.nanstd(nev),4) #mean no. of events\n",
    "#freq, np.round(np.nanmean(freq),4), np.round(np.nanstd(freq),4) #mean frequency\n"
   ]
  },
  {
   "cell_type": "code",
   "execution_count": 420,
   "metadata": {},
   "outputs": [],
   "source": [
    "def freq_difruns(ny, y0,y,prc1, prc2):\n",
    "    \n",
    "    # calculate threshold in pi control\n",
    "    #y2=2014\n",
    "    #y1=y2-ny+1\n",
    "    mhw_thr, drg_thr, models = get_thre(y0,y,prc1,prc2)\n",
    "\n",
    "    print ('Percentiles: '+str(prc1)+'/'+str(prc2))\n",
    "    # pi control\n",
    "    print('piControl: '+str(y0)+'-'+str(y))\n",
    "    #y2=2014\n",
    "    #y1=y2-ny+1\n",
    "    freq0, mfrq, sfrq = freq_coevents(fdir,'picontrol',mhw_thr,drg_thr, models,y0,y)\n",
    "    print(mfrq,sfrq)\n",
    "\n",
    "    # historical 1\n",
    "    y1 = 1900\n",
    "    y2 = y1+ny-1\n",
    "    print('\\nhistorical: '+str(y1)+'-'+str(y2))\n",
    "    freq, mfrq, sfrq = freq_coevents(fdir,'historical',mhw_thr,drg_thr, models, y1,y2)\n",
    "    print(mfrq,sfrq)\n",
    "\n",
    "    # historical 2\n",
    "    y2=2014\n",
    "    y1=y2-ny+1\n",
    "    print('\\nhistorical 2: '+str(y1)+'-'+str(y2))\n",
    "    freq1, mfrq, sfrq = freq_coevents(fdir,'historical',mhw_thr,drg_thr, models, y1,y2)\n",
    "    print(mfrq,sfrq)\n",
    "\n",
    "    # future\n",
    "    y2=2099\n",
    "    y1=y2-ny+1\n",
    "    print('\\nfuture: '+str(y1)+'-'+str(y2))\n",
    "    freq2, mfrq, sfrq = freq_coevents(fdir,'ssp585',mhw_thr,drg_thr, models, y1,y2)\n",
    "    print(mfrq,sfrq)\n",
    "    return freq0,freq1,freq2"
   ]
  },
  {
   "cell_type": "code",
   "execution_count": 421,
   "metadata": {},
   "outputs": [],
   "source": [
    "# Frequency of events - detrended data, using pi control threshols\n",
    "## percentiles 90-10"
   ]
  },
  {
   "cell_type": "code",
   "execution_count": 422,
   "metadata": {
    "scrolled": true
   },
   "outputs": [
    {
     "name": "stdout",
     "output_type": "stream",
     "text": [
      "\n",
      "Percentiles: 90/10\n",
      "\n",
      "Probable # events in 30 years: 0.3\n",
      "Percentiles: 90/10\n",
      "piControl: 0-29\n",
      "0.0 0.0\n",
      "\n",
      "historical: 1900-1929\n",
      "0.0 0.0\n",
      "\n",
      "historical 2: 1985-2014\n",
      "0.0 0.0\n",
      "\n",
      "future: 2070-2099\n",
      "0.0 0.0\n",
      "Percentiles: 90/10\n",
      "piControl: 30-59\n",
      "0.0 0.0\n",
      "\n",
      "historical: 1900-1929\n",
      "0.0 0.0\n",
      "\n",
      "historical 2: 1985-2014\n",
      "0.0 0.0\n",
      "\n",
      "future: 2070-2099\n",
      "0.0 0.0\n",
      "Percentiles: 90/10\n",
      "piControl: 60-89\n",
      "0.0909 0.2875\n",
      "\n",
      "historical: 1900-1929\n",
      "0.8182 1.0285\n",
      "\n",
      "historical 2: 1985-2014\n",
      "0.7273 0.8624\n",
      "\n",
      "future: 2070-2099\n",
      "0.5455 0.6556\n",
      "Percentiles: 90/10\n",
      "piControl: 90-119\n",
      "0.2727 0.4454\n",
      "\n",
      "historical: 1900-1929\n",
      "0.4545 0.782\n",
      "\n",
      "historical 2: 1985-2014\n",
      "0.5 0.8394\n",
      "\n",
      "future: 2070-2099\n",
      "0.2273 0.4191\n",
      "Percentiles: 90/10\n",
      "piControl: 120-149\n",
      "0.2727 0.4454\n",
      "\n",
      "historical: 1900-1929\n",
      "0.3182 0.8732\n",
      "\n",
      "historical 2: 1985-2014\n",
      "0.5455 1.0325\n",
      "\n",
      "future: 2070-2099\n",
      "0.4091 1.267\n",
      "Percentiles: 90/10\n",
      "piControl: 150-179\n",
      "0.4091 0.4917\n",
      "\n",
      "historical: 1900-1929\n",
      "0.3182 0.5548\n",
      "\n",
      "historical 2: 1985-2014\n",
      "0.4545 0.6556\n",
      "\n",
      "future: 2070-2099\n",
      "0.2273 0.8492\n",
      "Percentiles: 90/10\n",
      "piControl: 180-209\n",
      "0.1818 0.4896\n",
      "\n",
      "historical: 1900-1929\n",
      "0.3182 0.5548\n",
      "\n",
      "historical 2: 1985-2014\n",
      "0.7273 0.9136\n",
      "\n",
      "future: 2070-2099\n",
      "0.6364 1.1888\n",
      "Percentiles: 90/10\n",
      "piControl: 210-239\n",
      "0.2727 0.4454\n",
      "\n",
      "historical: 1900-1929\n",
      "0.4545 0.6556\n",
      "\n",
      "historical 2: 1985-2014\n",
      "0.3182 0.5548\n",
      "\n",
      "future: 2070-2099\n",
      "0.5 1.0766\n",
      "Percentiles: 90/10\n",
      "piControl: 240-269\n",
      "0.2273 0.4191\n",
      "\n",
      "historical: 1900-1929\n",
      "0.4545 0.6556\n",
      "\n",
      "historical 2: 1985-2014\n",
      "0.6364 0.7714\n",
      "\n",
      "future: 2070-2099\n",
      "0.5455 0.8907\n",
      "Percentiles: 90/10\n",
      "piControl: 270-299\n",
      "0.0 0.0\n",
      "\n",
      "historical: 1900-1929\n",
      "0.0 0.0\n",
      "\n",
      "historical 2: 1985-2014\n",
      "0.0 0.0\n",
      "\n",
      "future: 2070-2099\n",
      "0.0 0.0\n",
      "Percentiles: 90/10\n",
      "piControl: 300-329\n",
      "0.0 0.0\n",
      "\n",
      "historical: 1900-1929\n",
      "0.0 0.0\n",
      "\n",
      "historical 2: 1985-2014\n",
      "0.0 0.0\n",
      "\n",
      "future: 2070-2099\n",
      "0.0 0.0\n",
      "Percentiles: 90/10\n",
      "piControl: 330-359\n",
      "0.2273 0.4191\n",
      "\n",
      "historical: 1900-1929\n",
      "0.5 0.7833\n",
      "\n",
      "historical 2: 1985-2014\n",
      "0.4091 0.7173\n",
      "\n",
      "future: 2070-2099\n",
      "0.4091 0.6508\n",
      "Percentiles: 90/10\n",
      "piControl: 360-389\n",
      "0.3182 0.4658\n",
      "\n",
      "historical: 1900-1929\n",
      "0.2273 0.5163\n",
      "\n",
      "historical 2: 1985-2014\n",
      "0.5455 1.1571\n",
      "\n",
      "future: 2070-2099\n",
      "0.3182 0.4658\n",
      "Percentiles: 90/10\n",
      "piControl: 390-419\n",
      "0.2727 0.4454\n",
      "\n",
      "historical: 1900-1929\n",
      "0.3182 0.5548\n",
      "\n",
      "historical 2: 1985-2014\n",
      "0.2727 0.5378\n",
      "\n",
      "future: 2070-2099\n",
      "0.1818 0.3857\n",
      "Percentiles: 90/10\n",
      "piControl: 420-449\n",
      "0.1364 0.3432\n",
      "\n",
      "historical: 1900-1929\n",
      "0.3636 0.6428\n",
      "\n",
      "historical 2: 1985-2014\n",
      "0.4091 0.7173\n",
      "\n",
      "future: 2070-2099\n",
      "0.4091 0.4917\n",
      "Percentiles: 90/10\n",
      "piControl: 450-479\n",
      "0.3182 0.5548\n",
      "\n",
      "historical: 1900-1929\n",
      "0.5455 0.782\n",
      "\n",
      "historical 2: 1985-2014\n",
      "0.5 0.723\n",
      "\n",
      "future: 2070-2099\n",
      "0.3636 0.7714\n"
     ]
    },
    {
     "data": {
      "text/plain": [
       "(0.29829545454545453, 0.3778409090909091, 0.39189102689754196)"
      ]
     },
     "execution_count": 422,
     "metadata": {},
     "output_type": "execute_result"
    }
   ],
   "source": [
    "\n",
    "print ('\\nPercentiles: '+str(prc1)+'/'+str(prc2))\n",
    "print('\\nProbable # events in '+str(ny)+' years'+': '+str(ny*0.01))\n",
    "\n",
    "funev=list()\n",
    "hinev=list()\n",
    "test=list()\n",
    "for i in range(int(502/ny)):\n",
    "    pi,hi,fu = freq_difruns(ny,i*ny, (i+1)*ny-1, prc1, prc2)\n",
    "    test.append(pi)\n",
    "    funev.append(fu)\n",
    "    hinev.append(hi)\n",
    "np.mean(funev),np.mean(hinev),np.std(np.mean(hinev,axis=0))"
   ]
  },
  {
   "cell_type": "code",
   "execution_count": 423,
   "metadata": {},
   "outputs": [
    {
     "data": {
      "text/plain": [
       "(0.1875, 0.1875)"
      ]
     },
     "execution_count": 423,
     "metadata": {},
     "output_type": "execute_result"
    }
   ],
   "source": [
    "np.mean(test),np.mean(pinev)"
   ]
  },
  {
   "cell_type": "code",
   "execution_count": 424,
   "metadata": {},
   "outputs": [],
   "source": [
    "#model by model"
   ]
  },
  {
   "cell_type": "code",
   "execution_count": 425,
   "metadata": {},
   "outputs": [
    {
     "data": {
      "text/plain": [
       "array([0.    , 0.    , 0.375 , 0.    , 0.25  , 0.    , 0.3125, 0.4375,\n",
       "       0.6875, 0.0625, 1.1875, 1.    , 0.375 , 0.1875, 0.5   , 0.6875,\n",
       "       0.0625, 0.    , 0.125 , 0.25  , 0.    , 0.0625])"
      ]
     },
     "execution_count": 425,
     "metadata": {},
     "output_type": "execute_result"
    }
   ],
   "source": [
    "fu_model_mean=np.mean(funev,axis=0)\n",
    "fu_model_spread=np.std(funev,axis=0)\n",
    "fu_model_mean"
   ]
  },
  {
   "cell_type": "code",
   "execution_count": 426,
   "metadata": {},
   "outputs": [
    {
     "data": {
      "text/plain": [
       "(0.29829545454545453, 0.3306823063101677)"
      ]
     },
     "execution_count": 426,
     "metadata": {},
     "output_type": "execute_result"
    }
   ],
   "source": [
    "np.mean(fu_model_mean),np.std(fu_model_mean)"
   ]
  },
  {
   "cell_type": "code",
   "execution_count": 427,
   "metadata": {},
   "outputs": [],
   "source": [
    "#mme mean and spread"
   ]
  },
  {
   "cell_type": "code",
   "execution_count": 428,
   "metadata": {},
   "outputs": [
    {
     "data": {
      "text/plain": [
       "0.5695171333166422"
      ]
     },
     "execution_count": 428,
     "metadata": {},
     "output_type": "execute_result"
    }
   ],
   "source": [
    "fu_mme_mean=np.mean(funev,axis=1)\n",
    "fu_mme_spread=np.std(funev,axis=1)\n",
    "np.mean(fu_mme_spread)"
   ]
  },
  {
   "cell_type": "code",
   "execution_count": 429,
   "metadata": {},
   "outputs": [
    {
     "data": {
      "text/plain": [
       "(array([0.        , 0.        , 0.54545455, 0.22727273, 0.40909091,\n",
       "        0.22727273, 0.63636364, 0.5       , 0.54545455, 0.        ,\n",
       "        0.        , 0.40909091, 0.31818182, 0.18181818, 0.40909091,\n",
       "        0.36363636]),\n",
       " 0.29829545454545453,\n",
       " 0.20889859609488337)"
      ]
     },
     "execution_count": 429,
     "metadata": {},
     "output_type": "execute_result"
    }
   ],
   "source": [
    "fu_mme_mean,np.mean(fu_mme_mean),np.std(fu_mme_mean)"
   ]
  },
  {
   "cell_type": "code",
   "execution_count": 430,
   "metadata": {},
   "outputs": [],
   "source": [
    "#16 MMEs diff and spread"
   ]
  },
  {
   "cell_type": "code",
   "execution_count": 431,
   "metadata": {},
   "outputs": [
    {
     "data": {
      "text/plain": [
       "[0.0,\n",
       " 0.0,\n",
       " 0.4545454545454545,\n",
       " -0.04545454545454544,\n",
       " 0.1363636363636364,\n",
       " -0.18181818181818185,\n",
       " 0.45454545454545453,\n",
       " 0.2272727272727273,\n",
       " 0.3181818181818181,\n",
       " 0.0,\n",
       " 0.0,\n",
       " 0.18181818181818185,\n",
       " 0.0,\n",
       " -0.09090909090909088,\n",
       " 0.27272727272727276,\n",
       " 0.04545454545454547]"
      ]
     },
     "execution_count": 431,
     "metadata": {},
     "output_type": "execute_result"
    }
   ],
   "source": [
    "diff=list()\n",
    "zip_obj=zip(fu_mme_mean,mme_mean)\n",
    "for i , j in zip_obj:\n",
    "        diff.append(i-j)\n",
    "diff"
   ]
  },
  {
   "cell_type": "code",
   "execution_count": 432,
   "metadata": {},
   "outputs": [
    {
     "data": {
      "text/plain": [
       "(0.11079545454545454, 0.18391458306408537)"
      ]
     },
     "execution_count": 432,
     "metadata": {},
     "output_type": "execute_result"
    }
   ],
   "source": [
    "diff_mean=np.mean(diff)\n",
    "diff_spread=np.std(diff)\n",
    "diff_mean,diff_spread"
   ]
  },
  {
   "cell_type": "code",
   "execution_count": 433,
   "metadata": {},
   "outputs": [],
   "source": [
    "#model by model diff and spread"
   ]
  },
  {
   "cell_type": "code",
   "execution_count": 434,
   "metadata": {
    "scrolled": true
   },
   "outputs": [
    {
     "data": {
      "text/plain": [
       "[-0.0625,\n",
       " -0.125,\n",
       " 0.1875,\n",
       " -0.125,\n",
       " 0.0,\n",
       " -0.0625,\n",
       " 0.0,\n",
       " 0.0,\n",
       " 0.5,\n",
       " 0.0625,\n",
       " 0.9375,\n",
       " 0.8125,\n",
       " 0.125,\n",
       " 0.0,\n",
       " 0.3125,\n",
       " 0.5,\n",
       " 0.0,\n",
       " -0.125,\n",
       " -0.125,\n",
       " 0.0625,\n",
       " -0.25,\n",
       " -0.1875]"
      ]
     },
     "execution_count": 434,
     "metadata": {},
     "output_type": "execute_result"
    }
   ],
   "source": [
    "diff=list()\n",
    "zip_obj=zip(fu_model_mean,model_mean)\n",
    "for i , j in zip_obj:\n",
    "        diff.append(i-j)\n",
    "diff"
   ]
  },
  {
   "cell_type": "code",
   "execution_count": 435,
   "metadata": {},
   "outputs": [
    {
     "data": {
      "text/plain": [
       "(0.11079545454545454, 0.3084578451783422)"
      ]
     },
     "execution_count": 435,
     "metadata": {},
     "output_type": "execute_result"
    }
   ],
   "source": [
    "diff_mean=np.mean(diff)\n",
    "diff_spread=np.std(diff)\n",
    "diff_mean,diff_spread"
   ]
  },
  {
   "cell_type": "code",
   "execution_count": null,
   "metadata": {},
   "outputs": [],
   "source": []
  },
  {
   "cell_type": "code",
   "execution_count": null,
   "metadata": {},
   "outputs": [],
   "source": []
  }
 ],
 "metadata": {
  "kernelspec": {
   "display_name": "Python 3",
   "language": "python",
   "name": "python3"
  },
  "language_info": {
   "codemirror_mode": {
    "name": "ipython",
    "version": 3
   },
   "file_extension": ".py",
   "mimetype": "text/x-python",
   "name": "python",
   "nbconvert_exporter": "python",
   "pygments_lexer": "ipython3",
   "version": "3.7.6"
  }
 },
 "nbformat": 4,
 "nbformat_minor": 4
}
