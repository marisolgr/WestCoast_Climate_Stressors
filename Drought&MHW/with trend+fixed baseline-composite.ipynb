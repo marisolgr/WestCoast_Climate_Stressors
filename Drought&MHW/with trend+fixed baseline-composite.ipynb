{
 "cells": [
  {
   "cell_type": "markdown",
   "metadata": {},
   "source": [
    "# Calculate robusteness from pi control runs"
   ]
  },
  {
   "cell_type": "code",
   "execution_count": 366,
   "metadata": {},
   "outputs": [],
   "source": [
    "# Some definitions\n",
    "\n",
    "# directory of data\n",
    "#fdir = '~/Google Drive/professional/research/FARALLON_INSTITUTE_PROJECTS/2020 NOAA MAPP/Climate_extremes_sharedfigsandcode/data/FOR SCATTER PLOT/'\n",
    "fdir = '/Volumes/GoogleDrive/My Drive/Climate_extremes_sharedfigsandcode/data/Annual_TimeSeries/'"
   ]
  },
  {
   "cell_type": "code",
   "execution_count": 367,
   "metadata": {},
   "outputs": [],
   "source": [
    "# Modules\n",
    "import xarray as xr\n",
    "import numpy as np\n",
    "import pandas as pd\n",
    "import matplotlib.pyplot as plt\n",
    "import warnings\n",
    "warnings.simplefilter('ignore') #filter some warning messages\n",
    "import seaborn as sns"
   ]
  },
  {
   "cell_type": "code",
   "execution_count": 368,
   "metadata": {},
   "outputs": [],
   "source": [
    "def num_coevents(y1, y2, pct1, pct2, runs='picontrol',loc='cclme'):\n",
    "    # \n",
    "    fin1 = fdir+'original ts/'+runs+'_'+loc+'_sst.nc'\n",
    "    fin2 = fdir+'original ts/'+runs+'_sm.nc'\n",
    "    modsst = xr.open_dataset(fin1)\n",
    "    modsst.close()\n",
    "    modsm2 = xr.open_dataset(fin2)\n",
    "    modsm2.close()\n",
    "    \n",
    "    models = modsm2.model\n",
    "\n",
    "    # selec periood\n",
    "    modsst = modsst.sel(year=slice(y1,y2))\n",
    "    #modsm2 = modsm2.sel(year=slice(y1-1,y2-1))\n",
    "    modsm2 = modsm2.sel(year=slice(y1,y2))\n",
    "\n",
    "    \n",
    "    drt_a = list()\n",
    "    mhw_a = list()\n",
    "    #drt = list()\n",
    "    for ix,i in enumerate(models):\n",
    "        #print(ix,i)\n",
    "        tmp1= modsst.sel(model=i).sst.values - modsst.sel(model=i).sst.mean().values\n",
    "        tmp2= modsm2.sel(model=i).sm.values - modsm2.sel(model=i).sm.mean().values\n",
    "    \n",
    "        # calculate threshold\n",
    "        mhw_thr = np.nanpercentile(tmp1,pct1)\n",
    "        drg_thr = np.nanpercentile(tmp2,pct2)\n",
    "    \n",
    "        a1 = tmp1>=mhw_thr\n",
    "        a2 = tmp2<=drg_thr\n",
    "        #print(tmp1.shape,tmp1[a2],tmp2.shape,tmp2[a2])\n",
    "        tmp_m = np.full((len(modsst.year.values),1),np.nan)\n",
    "        tmp_m[0:len(tmp1[a2]),0]=tmp1[a2]\n",
    "        \n",
    "        tmp_d = np.full((len(modsst.year.values),1),np.nan)\n",
    "        tmp_d[0:len(tmp2[a2]),0]=tmp2[a2]\n",
    "        \n",
    "        mhw_a.append(tmp_m)\n",
    "        drt_a.append(tmp_d)\n",
    "        \n",
    "    return mhw_a, drt_a "
   ]
  },
  {
   "cell_type": "code",
   "execution_count": 369,
   "metadata": {},
   "outputs": [],
   "source": [
    "ny = 30\n",
    "prc1 = 90\n",
    "prc2 = 10\n",
    "loc='cclme'\n",
    "pi_m_a=list()\n",
    "pi_d_a=list()\n",
    "\n",
    "for i in range(int(500/ny)):\n",
    "    mhw_a, drt_a  = num_coevents(i*ny+1, (i+1)*ny, prc1 , prc2, loc=loc)\n",
    "    pi_m_a.append(mhw_a)\n",
    "    pi_d_a.append(drt_a)"
   ]
  },
  {
   "cell_type": "code",
   "execution_count": 370,
   "metadata": {},
   "outputs": [
    {
     "data": {
      "text/plain": [
       "(22, 30, 1)"
      ]
     },
     "execution_count": 370,
     "metadata": {},
     "output_type": "execute_result"
    }
   ],
   "source": [
    "np.mean(np.array(pi_m_a),axis=(1)).shape #mme\n",
    "np.mean(np.array(pi_m_a),axis=(0)).shape #model"
   ]
  },
  {
   "cell_type": "code",
   "execution_count": 371,
   "metadata": {},
   "outputs": [
    {
     "data": {
      "image/png": "[encoded data removed]",
      "text/plain": [
       "<Figure size 360x288 with 1 Axes>"
      ]
     },
     "metadata": {},
     "output_type": "display_data"
    }
   ],
   "source": [
    "np.array(pi_m_a[0])\n",
    "\n",
    "import seaborn as sns\n",
    "sns.set(style=\"white\", palette=\"muted\", color_codes=True)\n",
    "fig, ax1 = plt.subplots(figsize=(5,4))\n",
    "\n",
    "ax1=sns.distplot(np.mean(np.array(pi_m_a),axis=(1)), bins=5,hist=True, color='b',label='PI')  #, ax=axes[0, 0])hist=False,\n",
    "\n",
    "ax1=sns.distplot(np.mean(np.array(pi_m_a),axis=(0)), bins=5,hist=True, color='r',label='PI')  #, ax=axes[0, 0])hist=False,\n",
    "\n",
    "ax1=sns.distplot(pi_m_a, bins=5,hist=True, color='k',label='PI')  #, ax=axes[0, 0])hist=False,\n",
    "\n",
    "\n",
    "plt.show()"
   ]
  },
  {
   "cell_type": "code",
   "execution_count": null,
   "metadata": {},
   "outputs": [],
   "source": []
  },
  {
   "cell_type": "code",
   "execution_count": 372,
   "metadata": {},
   "outputs": [],
   "source": [
    "## Calculate thresholds for PI Control runs"
   ]
  },
  {
   "cell_type": "code",
   "execution_count": 373,
   "metadata": {},
   "outputs": [],
   "source": [
    "def get_thre(loc,y1,y2,prc1,prc2):\n",
    "    # open data: anomalies (without trend)\n",
    "\n",
    "    modsst = xr.open_dataset(fdir+'original ts/picontrol_'+loc+'_sst.nc')\n",
    "    modsst.close()\n",
    "    modsm2 = xr.open_dataset(fdir+'original ts/picontrol_sm.nc')\n",
    "    modsm2.close()\n",
    "\n",
    "    # select period \n",
    "    modsst = modsst.sel(year=slice(y1,y2))\n",
    "    #modsm2 = modsm2.sel(year=slice(y1-1,y2-1))\n",
    "    modsm2 = modsm2.sel(year=slice(y1,y2))\n",
    "\n",
    "\n",
    "    mhw_thr = list()\n",
    "    drg_thr = list()\n",
    "    models = list()\n",
    "    mean1 = list()\n",
    "    mean2 = list()\n",
    "    \n",
    "\n",
    "    # Calculate thresholds for each model\n",
    "    for ix,i in enumerate(modsm2.model.values):\n",
    "        tmp1= modsst.sel(model=i).sst.values - modsst.sel(model=i).sst.mean().values\n",
    "        tmp2= modsm2.sel(model=i).sm.values - modsm2.sel(model=i).sm.mean().values\n",
    "        mean_tmp1=modsst.sel(model=i).sst.mean().values\n",
    "        mean_tmp2=modsm2.sel(model=i).sm.mean().values\n",
    "        mhw_thr.append(np.nanpercentile(tmp1,prc1))\n",
    "        drg_thr.append(np.nanpercentile(tmp2,prc2))\n",
    "        mean1.append(mean_tmp1)\n",
    "        mean2.append(mean_tmp2)\n",
    "        models.append(i)\n",
    "    \n",
    "    return mhw_thr, drg_thr , models,mean1,mean2 "
   ]
  },
  {
   "cell_type": "code",
   "execution_count": 374,
   "metadata": {},
   "outputs": [],
   "source": [
    "# calculate number of events for control, historical and future\n",
    "# based on pi control thresholds\n",
    "\n",
    "def freq_coevents(fdir, runs,loc, mhw_thr, drg_thr, models,mean1,mean2, y1, y2):\n",
    "    #pi control\n",
    "    fi1 = fdir+'original ts/'+runs+'_'+loc+'_sst.nc'\n",
    "    fi2 = fdir+'original ts/'+runs+'_sm.nc'\n",
    "    modsst = xr.open_dataset(fi1)\n",
    "    modsst.close()\n",
    "    modsm2 = xr.open_dataset(fi2)\n",
    "    modsm2.close()\n",
    "    models=modsm2.model\n",
    "\n",
    "    # select period\n",
    "    modsst = modsst.sel(year=slice(y1,y2))\n",
    "    modsm2 = modsm2.sel(year=slice(y1,y2))\n",
    "\n",
    "    drt_a = list()\n",
    "    mhw_a = list()\n",
    "\n",
    "    for ix,i in enumerate(models):\n",
    "        #print(ix,i)\n",
    "        tmp1= modsst.sel(model=i).sst.values - mean1[ix]\n",
    "        tmp2= modsm2.sel(model=i).sm.values - mean2[ix]\n",
    "         \n",
    "        a1 = tmp1>=mhw_thr[ix]\n",
    "        a2 = tmp2<=drg_thr[ix]\n",
    "        \n",
    "        tmp_m = np.full((len(modsst.year.values),1),np.nan)\n",
    "        tmp_m[0:len(tmp1[a2]),0]=tmp1[a2]\n",
    "        \n",
    "        tmp_d = np.full((len(modsst.year.values),1),np.nan)\n",
    "        tmp_d[0:len(tmp2[a2]),0]=tmp2[a2]\n",
    "        \n",
    "        mhw_a.append(tmp_m)\n",
    "        drt_a.append(tmp_d)\n",
    "\n",
    "    \n",
    "    return mhw_a, drt_a #mean no. of events"
   ]
  },
  {
   "cell_type": "code",
   "execution_count": 375,
   "metadata": {},
   "outputs": [],
   "source": [
    "def freq_difruns(loc, ny, y0,y,prc1, prc2):\n",
    "    \n",
    "    # calculate threshold in pi control\n",
    "    #y2=2014\n",
    "    #y1=y2-ny+1\n",
    "    mhw_thr, drg_thr, models ,mean1,mean2= get_thre(loc,y0,y,prc1,prc2)\n",
    "\n",
    "    print ('Percentiles: '+str(prc1)+'/'+str(prc2))\n",
    "    # pi control\n",
    "    print('piControl: '+str(y0)+'-'+str(y))\n",
    "    #y2=2014\n",
    "    #y1=y2-ny+1\n",
    "    mhw_a0, drt_a0 = freq_coevents(fdir,'picontrol',loc,mhw_thr,drg_thr, models,mean1,mean2,y0,y)\n",
    "\n",
    "     # future\n",
    "    y2=2099\n",
    "    y1=y2-ny+1\n",
    "    print('\\nfuture: '+str(y1)+'-'+str(y2))\n",
    "    mhw_a2, drt_a2 = freq_coevents(fdir,'ssp585',loc,mhw_thr,drg_thr, models,mean1,mean2, y1,y2)\n",
    "\n",
    "    \n",
    "    return mhw_a0, drt_a0, mhw_a2, drt_a2"
   ]
  },
  {
   "cell_type": "code",
   "execution_count": 376,
   "metadata": {},
   "outputs": [],
   "source": [
    "# Frequency of events - detrended data, using pi control threshols\n",
    "## percentiles 90-10"
   ]
  },
  {
   "cell_type": "code",
   "execution_count": 377,
   "metadata": {
    "scrolled": true
   },
   "outputs": [
    {
     "name": "stdout",
     "output_type": "stream",
     "text": [
      "\n",
      "Percentiles: 90/10\n",
      "\n",
      "Probable # events in 30 years: 0.3\n",
      "Percentiles: 90/10\n",
      "piControl: 1-30\n",
      "\n",
      "future: 2070-2099\n",
      "Percentiles: 90/10\n",
      "piControl: 31-60\n",
      "\n",
      "future: 2070-2099\n",
      "Percentiles: 90/10\n",
      "piControl: 61-90\n",
      "\n",
      "future: 2070-2099\n",
      "Percentiles: 90/10\n",
      "piControl: 91-120\n",
      "\n",
      "future: 2070-2099\n",
      "Percentiles: 90/10\n",
      "piControl: 121-150\n",
      "\n",
      "future: 2070-2099\n",
      "Percentiles: 90/10\n",
      "piControl: 151-180\n",
      "\n",
      "future: 2070-2099\n",
      "Percentiles: 90/10\n",
      "piControl: 181-210\n",
      "\n",
      "future: 2070-2099\n",
      "Percentiles: 90/10\n",
      "piControl: 211-240\n",
      "\n",
      "future: 2070-2099\n",
      "Percentiles: 90/10\n",
      "piControl: 241-270\n",
      "\n",
      "future: 2070-2099\n",
      "Percentiles: 90/10\n",
      "piControl: 271-300\n",
      "\n",
      "future: 2070-2099\n",
      "Percentiles: 90/10\n",
      "piControl: 301-330\n",
      "\n",
      "future: 2070-2099\n",
      "Percentiles: 90/10\n",
      "piControl: 331-360\n",
      "\n",
      "future: 2070-2099\n",
      "Percentiles: 90/10\n",
      "piControl: 361-390\n",
      "\n",
      "future: 2070-2099\n",
      "Percentiles: 90/10\n",
      "piControl: 391-420\n",
      "\n",
      "future: 2070-2099\n",
      "Percentiles: 90/10\n",
      "piControl: 421-450\n",
      "\n",
      "future: 2070-2099\n",
      "Percentiles: 90/10\n",
      "piControl: 451-480\n",
      "\n",
      "future: 2070-2099\n"
     ]
    }
   ],
   "source": [
    "\n",
    "print ('\\nPercentiles: '+str(prc1)+'/'+str(prc2))\n",
    "print('\\nProbable # events in '+str(ny)+' years'+': '+str(ny*0.01))\n",
    "\n",
    "\n",
    "test_m_a=list()\n",
    "test_d_a=list()\n",
    "fu_m_a=list()\n",
    "fu_d_a=list()\n",
    "\n",
    "for i in range(int(500/ny)):\n",
    "    mhw_a0, drt_a0, mhw_a2, drt_a2 = freq_difruns(loc,ny,i*ny+1, (i+1)*ny, prc1, prc2)\n",
    "    test_m_a.append(mhw_a0)\n",
    "    test_d_a.append(drt_a0)\n",
    "    fu_m_a.append(mhw_a2)\n",
    "    fu_d_a.append(drt_a2)"
   ]
  },
  {
   "cell_type": "code",
   "execution_count": 378,
   "metadata": {
    "scrolled": true
   },
   "outputs": [
    {
     "data": {
      "text/plain": [
       "(0.13063900940345902, -0.2280309048565953)"
      ]
     },
     "execution_count": 378,
     "metadata": {},
     "output_type": "execute_result"
    }
   ],
   "source": [
    "#np.mean(np.array(fu_m_a),axis=(1)).shape #mme\n",
    "#np.mean(np.array(fu_m_a),axis=(0)).shape #model\n",
    "np.array(fu_d_a).shape\n",
    "DS=np.nanmean(np.array(pi_m_a),axis=1)\n",
    "nbin=int((max(DS.flatten())-min(DS.flatten()))/bw)\n",
    "max(DS.flatten()),min(DS.flatten())"
   ]
  },
  {
   "cell_type": "code",
   "execution_count": 379,
   "metadata": {},
   "outputs": [
    {
     "data": {
      "image/png": "[encoded data removed]",
      "text/plain": [
       "<Figure size 360x288 with 1 Axes>"
      ]
     },
     "metadata": {},
     "output_type": "display_data"
    },
    {
     "data": {
      "image/png": "[encoded data removed]",
      "text/plain": [
       "<Figure size 360x288 with 1 Axes>"
      ]
     },
     "metadata": {},
     "output_type": "display_data"
    },
    {
     "data": {
      "image/png": "[encoded data removed]",
      "text/plain": [
       "<Figure size 360x288 with 1 Axes>"
      ]
     },
     "metadata": {},
     "output_type": "display_data"
    }
   ],
   "source": [
    "np.array(pi_m_a[0])\n",
    "\n",
    "import seaborn as sns\n",
    "sns.set(style=\"white\", palette=\"muted\", color_codes=True)\n",
    "bw=0.1\n",
    "\n",
    "fig, ax1 = plt.subplots(figsize=(5,4))\n",
    "DS=np.nanmean(np.array(pi_m_a),axis=1)\n",
    "nbin=int((max(DS.flatten())-min(DS.flatten()))/bw)\n",
    "ax1=sns.distplot(np.nanmean(np.array(pi_m_a),axis=1), bins=nbin,hist=True, color='b',label='PI')  #, ax=axes[0, 0])hist=False,\n",
    "DS=np.nanmean(np.array(fu_m_a),axis=1)\n",
    "nbin=int((max(DS.flatten())-min(DS.flatten()))/bw)\n",
    "ax1=sns.distplot(np.nanmean(np.array(fu_m_a),axis=1), bins=nbin,hist=True, color='r',label='SSP585')  #, ax=axes[0, 0])hist=False,\n",
    "plt.title('MME')\n",
    "plt.legend()\n",
    "plt.show()\n",
    "\n",
    "fig, ax1 = plt.subplots(figsize=(5,4))\n",
    "DS=np.nanmean(np.array(pi_m_a),axis=0)\n",
    "nbin=int((max(DS.flatten())-min(DS.flatten()))/bw)\n",
    "ax1=sns.distplot(np.nanmean(np.array(pi_m_a),axis=0), bins=nbin,hist=True, color='b',label='PI')  #, ax=axes[0, 0])hist=False,\n",
    "DS=np.nanmean(np.array(fu_m_a),axis=0)\n",
    "nbin=int((max(DS.flatten())-min(DS.flatten()))/bw)\n",
    "ax1=sns.distplot(np.nanmean(np.array(fu_m_a),axis=0), bins=nbin,hist=True, color='r',label='SSP585')  #, ax=axes[0, 0])hist=False,\n",
    "plt.title('Cross model')\n",
    "plt.legend()\n",
    "plt.show()\n",
    "\n",
    "\n",
    "fig, ax1 = plt.subplots(figsize=(5,4))\n",
    "DS=np.array(pi_m_a)\n",
    "nbin=int((max(DS.flatten())-min(DS.flatten()))/bw)\n",
    "ax1=sns.distplot(pi_m_a, bins=nbin,hist=True, color='b',label='PI')  #, ax=axes[0, 0])hist=False,\n",
    "DS=np.array(fu_m_a)\n",
    "nbin=int((max(DS.flatten())-min(DS.flatten()))/bw)\n",
    "ax1=sns.distplot(fu_m_a, bins=nbin,hist=True, color='r',label='SSP585')  #, ax=axes[0, 0])hist=False,                \n",
    "plt.title('All')\n",
    "plt.legend()\n",
    "plt.show()"
   ]
  },
  {
   "cell_type": "code",
   "execution_count": 380,
   "metadata": {},
   "outputs": [],
   "source": [
    "anom=[np.asarray(pi_m_a),np.asarray(pi_d_a),np.asarray(fu_m_a),np.asarray(fu_d_a)]\n",
    "np.save(loc+'_ca_with_trend_anom.npy',anom)"
   ]
  },
  {
   "cell_type": "code",
   "execution_count": null,
   "metadata": {},
   "outputs": [],
   "source": []
  }
 ],
 "metadata": {
  "kernelspec": {
   "display_name": "Python 3",
   "language": "python",
   "name": "python3"
  },
  "language_info": {
   "codemirror_mode": {
    "name": "ipython",
    "version": 3
   },
   "file_extension": ".py",
   "mimetype": "text/x-python",
   "name": "python",
   "nbconvert_exporter": "python",
   "pygments_lexer": "ipython3",
   "version": "3.7.1"
  }
 },
 "nbformat": 4,
 "nbformat_minor": 4
}
