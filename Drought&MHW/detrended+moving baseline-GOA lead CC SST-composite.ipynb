{
 "cells": [
  {
   "cell_type": "markdown",
   "metadata": {},
   "source": [
    "# Calculate robusteness from pi control runs"
   ]
  },
  {
   "cell_type": "code",
   "execution_count": 38,
   "metadata": {},
   "outputs": [],
   "source": [
    "# Some definitions\n",
    "\n",
    "# directory of data\n",
    "#fdir = '~/Google Drive/professional/research/FARALLON_INSTITUTE_PROJECTS/2020 NOAA MAPP/Climate_extremes_sharedfigsandcode/data/FOR SCATTER PLOT/'\n",
    "fdir = '/Volumes/GoogleDrive/My Drive/Climate_extremes_sharedfigsandcode/data/Annual_TimeSeries/'"
   ]
  },
  {
   "cell_type": "code",
   "execution_count": 39,
   "metadata": {},
   "outputs": [],
   "source": [
    "# Modules\n",
    "import xarray as xr\n",
    "import numpy as np\n",
    "import pandas as pd\n",
    "import matplotlib.pyplot as plt\n",
    "import warnings\n",
    "warnings.simplefilter('ignore') #filter some warning messages\n",
    "import seaborn as sns"
   ]
  },
  {
   "cell_type": "code",
   "execution_count": 40,
   "metadata": {},
   "outputs": [],
   "source": [
    "#detrend function: detrend use polynomial fit\n",
    "def detrend(x,y,degree):\n",
    "    import statsmodels.formula.api as smf\n",
    "    import numpy as np\n",
    "    import pandas as pd\n",
    "    \n",
    "\n",
    "    df = pd.DataFrame(columns=['y', 'x'])\n",
    "    df['x'] = x\n",
    "    df['y'] = pd.Series(y)   #y\n",
    "\n",
    "    idx = np.isfinite(x) & np.isfinite(y)\n",
    "    weights = np.polyfit(x[idx], y[idx], degree)\n",
    "    model = np.poly1d(weights)\n",
    "    results = smf.ols(formula='y ~ model(x)', data=df).fit()\n",
    "\n",
    "    p_value=results.f_pvalue\n",
    "    r2=results.rsquared_adj\n",
    "\n",
    "    detrend_ts=np.zeros(shape=(len(y),))\n",
    "    detrend_ts[:] = np.nan\n",
    "    detrend_ts[idx]=y[idx]-results.fittedvalues\n",
    "\n",
    "    #plt.figure(figsize=(10,4))\n",
    "    #plt.plot(x,y)\n",
    "    #plt.plot(x[idx], results.fittedvalues, 'r')\n",
    "    #plt.figure(figsize=(10,4))\n",
    "    #plt.plot(x, detrend_ts)\n",
    "    #plt.show()\n",
    "\n",
    "    return p_value, r2, detrend_ts"
   ]
  },
  {
   "cell_type": "code",
   "execution_count": 41,
   "metadata": {},
   "outputs": [],
   "source": [
    "def num_coevents(y1, y2, pct1, pct2,  runs='picontrol',loc='cclme'):\n",
    "    # \n",
    "    fin1 = fdir+'original ts/'+runs+'_'+loc+'_sst.nc'\n",
    "    fin2 = fdir+'original ts/'+runs+'_goa_sst.nc'\n",
    "    fin3 = fdir+'original ts/'+runs+'_sm.nc'\n",
    "\n",
    "    modsst = xr.open_dataset(fin1)\n",
    "    modsst.close()\n",
    "    modsm2 = xr.open_dataset(fin2)\n",
    "    modsm2.close()\n",
    "    \n",
    "    modsm = xr.open_dataset(fin3)\n",
    "    modsm.close()    \n",
    "    models = modsm.model\n",
    "\n",
    "    # selec periood\n",
    "    modsst = modsst.sel(year=slice(y1,y2))\n",
    "    modsm2 = modsm2.sel(year=slice(y1-1,y2-1))\n",
    "    modsm = modsm.sel(year=slice(y1-1,y2-1))\n",
    "    \n",
    "    drt_a = list()\n",
    "    mhw_a = list() \n",
    "    \n",
    "    for ix,i in enumerate(models):\n",
    "        #print(ix,i)\n",
    "        tmp1_0= modsst.sel(model=i).sst.values\n",
    "        tmp2_0= modsm2.sel(model=i).sst.values\n",
    "        tmp3_0= modsm.sel(model=i).sm.values\n",
    "\n",
    "        \n",
    "        #detrend\n",
    "        nsample = np.linspace(1,len(tmp1_0), len(tmp1_0))\n",
    "        [p_value, r2, tmp1]= detrend(nsample,tmp1_0,1)\n",
    "        nsample = np.linspace(1,len(tmp2_0), len(tmp2_0))\n",
    "        [p_value, r2, tmp2]= detrend(nsample,tmp2_0,1)\n",
    "        nsample = np.linspace(1,len(tmp3_0), len(tmp3_0))\n",
    "        [p_value, r2, tmp3]= detrend(nsample,tmp3_0,1)\n",
    "        \n",
    "        # calculate threshold\n",
    "        mhw_thr = np.nanpercentile(tmp1,pct1)\n",
    "        drg_thr = np.nanpercentile(tmp2,pct1)\n",
    "        drg_thr2 = np.nanpercentile(tmp3,pct2)\n",
    "    \n",
    "        a1 = tmp1>=mhw_thr\n",
    "        a2 = tmp2>=drg_thr\n",
    "        a3 = tmp3<=drg_thr2  \n",
    "        \n",
    "        tmp_m = np.full((len(modsst.year.values),1),np.nan)\n",
    "        tmp_m[0:len(tmp1[a2]),0]=tmp1[a2]\n",
    "        \n",
    "        tmp_d = np.full((len(modsst.year.values),1),np.nan)\n",
    "        tmp_d[0:len(tmp2[a2]),0]=tmp2[a2]\n",
    "        \n",
    "        mhw_a.append(tmp_m)\n",
    "        drt_a.append(tmp_d)\n",
    "        \n",
    "    return mhw_a, drt_a "
   ]
  },
  {
   "cell_type": "code",
   "execution_count": 42,
   "metadata": {},
   "outputs": [],
   "source": [
    "ny =30\n",
    "prc1 = 90\n",
    "prc2 = 10\n",
    "loc='cclme'\n",
    "pi_m_a=list()\n",
    "pi_d_a=list()\n",
    "\n",
    "for i in range(int(500/ny)):\n",
    "    mhw_a, drt_a  = num_coevents(i*ny+2, (i+1)*ny+1,prc1 , prc2, loc=loc)\n",
    "    pi_m_a.append(mhw_a)\n",
    "    pi_d_a.append(drt_a)\n"
   ]
  },
  {
   "cell_type": "code",
   "execution_count": 43,
   "metadata": {},
   "outputs": [
    {
     "data": {
      "image/png": "[encoded data removed]",
      "text/plain": [
       "<Figure size 360x288 with 1 Axes>"
      ]
     },
     "metadata": {},
     "output_type": "display_data"
    }
   ],
   "source": [
    "import seaborn as sns\n",
    "sns.set(style=\"white\", palette=\"muted\", color_codes=True)\n",
    "fig, ax1 = plt.subplots(figsize=(5,4))\n",
    "\n",
    "ax1=sns.distplot(np.mean(np.array(pi_m_a),axis=(1)), bins=5,hist=True, color='b',label='PI')  #, ax=axes[0, 0])hist=False,\n",
    "\n",
    "ax1=sns.distplot(np.mean(np.array(pi_m_a),axis=(0)), bins=5,hist=True, color='r',label='PI')  #, ax=axes[0, 0])hist=False,\n",
    "\n",
    "ax1=sns.distplot(pi_m_a, bins=5,hist=True, color='k',label='PI')  #, ax=axes[0, 0])hist=False,\n",
    "\n",
    "\n",
    "plt.show()"
   ]
  },
  {
   "cell_type": "code",
   "execution_count": 44,
   "metadata": {},
   "outputs": [],
   "source": [
    "## Calculate thresholds for PI Control runs"
   ]
  },
  {
   "cell_type": "code",
   "execution_count": 45,
   "metadata": {},
   "outputs": [],
   "source": [
    "def get_thre(fdir, runs,loc, y1,y2,prc1,prc2):\n",
    "    # open data: anomalies (without trend)\n",
    "\n",
    "    modsst = xr.open_dataset(fdir+'original ts/'+runs+'_'+loc+'_sst.nc')\n",
    "    modsst.close()\n",
    "    modsm2 = xr.open_dataset(fdir+'original ts/'+runs+'_goa_sst.nc')\n",
    "    modsm2.close()\n",
    "    modsm = xr.open_dataset(fdir+'original ts/'+runs+'_sm.nc')\n",
    "    modsm.close()\n",
    "    \n",
    "    # select period \n",
    "    modsst = modsst.sel(year=slice(y1,y2))\n",
    "    modsm2 = modsm2.sel(year=slice(y1-1,y2-1))\n",
    "    modsm = modsm.sel(year=slice(y1-1,y2-1))\n",
    "\n",
    "    mhw_thr = list()\n",
    "    drg_thr = list()\n",
    "    drg_thr2 = list()\n",
    "    models = list()\n",
    "\n",
    "    # Calculate thresholds for each model\n",
    "    for ix,i in enumerate(modsm.model.values):\n",
    "        tmp1_0= modsst.sel(model=i).sst.values\n",
    "        tmp2_0= modsm2.sel(model=i).sst.values\n",
    "        tmp3_0= modsm.sel(model=i).sm.values\n",
    "        \n",
    "        #detrend\n",
    "        nsample = np.linspace(1,len(tmp1_0), len(tmp1_0))\n",
    "        [p_value, r2, tmp1]= detrend(nsample,tmp1_0,1)\n",
    "        nsample = np.linspace(1,len(tmp2_0), len(tmp2_0))\n",
    "        [p_value, r2, tmp2]= detrend(nsample,tmp2_0,1)\n",
    "        nsample = np.linspace(1,len(tmp3_0), len(tmp3_0))\n",
    "        [p_value, r2, tmp3]= detrend(nsample,tmp3_0,1)\n",
    "        \n",
    "        mhw_thr.append(np.nanpercentile(tmp1,prc1))\n",
    "        drg_thr.append(np.nanpercentile(tmp2,prc1))\n",
    "        drg_thr2.append(np.nanpercentile(tmp3,prc2))\n",
    "\n",
    "\n",
    "        models.append(i)\n",
    "    \n",
    "    return mhw_thr, drg_thr,drg_thr2, models"
   ]
  },
  {
   "cell_type": "code",
   "execution_count": 46,
   "metadata": {},
   "outputs": [],
   "source": [
    "# calculate number of events for control, historical and future\n",
    "# based on thresholds in each run\n",
    "\n",
    "def freq_coevents(fdir, runs, loc, mhw_thr, drg_thr, drg_thr2, models, y1, y2):\n",
    "    #pi control\n",
    "    fi1 = fdir+'original ts/'+runs+'_'+loc+'_sst.nc'\n",
    "    fi2 = fdir+'original ts/'+runs+'_goa_sst.nc'\n",
    "    fi3 = fdir+'original ts/'+runs+'_sm.nc'\n",
    "\n",
    "    modsst = xr.open_dataset(fi1)\n",
    "    modsst.close()\n",
    "    modsm2 = xr.open_dataset(fi2)\n",
    "    modsm2.close()\n",
    "    modsm = xr.open_dataset(fi3)\n",
    "    modsm.close()\n",
    "    # select period\n",
    "    modsst = modsst.sel(year=slice(y1,y2))\n",
    "    modsm2 = modsm2.sel(year=slice(y1-1,y2-1))\n",
    "    modsm = modsm.sel(year=slice(y1-1,y2-1))\n",
    "\n",
    "    drt_a = list()\n",
    "    mhw_a = list()\n",
    "    for ix,i in enumerate(models):\n",
    "        #print(ix,i)\n",
    "        tmp1_0= modsst.sel(model=i).sst.values\n",
    "        tmp2_0= modsm2.sel(model=i).sst.values\n",
    "        tmp3_0= modsm.sel(model=i).sm.values\n",
    "        \n",
    "        #detrend\n",
    "        nsample = np.linspace(1,len(tmp1_0), len(tmp1_0))\n",
    "        [p_value, r2, tmp1]= detrend(nsample,tmp1_0,1)\n",
    "        nsample = np.linspace(1,len(tmp2_0), len(tmp2_0))\n",
    "        [p_value, r2, tmp2]= detrend(nsample,tmp2_0,1)\n",
    "        nsample = np.linspace(1,len(tmp3_0), len(tmp3_0))\n",
    "        [p_value, r2, tmp3]= detrend(nsample,tmp3_0,1)\n",
    "                \n",
    "        \n",
    "        a1 = tmp1>=mhw_thr[ix]\n",
    "        a2 = tmp2>=drg_thr[ix]\n",
    "        a3 = tmp3<=drg_thr2[ix]\n",
    "        tmp_m = np.full((len(modsst.year.values),1),np.nan)\n",
    "        tmp_m[0:len(tmp1[a2]),0]=tmp1[a2]\n",
    "        \n",
    "        tmp_d = np.full((len(modsst.year.values),1),np.nan)\n",
    "        tmp_d[0:len(tmp2[a2]),0]=tmp2[a2]\n",
    "        \n",
    "        mhw_a.append(tmp_m)\n",
    "        drt_a.append(tmp_d)\n",
    "\n",
    "    \n",
    "    return mhw_a, drt_a #mean no. of events"
   ]
  },
  {
   "cell_type": "code",
   "execution_count": 47,
   "metadata": {},
   "outputs": [],
   "source": [
    "def freq_difruns(fdir,loc, ny, prc1, prc2):\n",
    "    \n",
    "    # calculate threshold in future 1\n",
    "    y2=2099\n",
    "    y1=y2-ny+1\n",
    "    mhw_thr, drg_thr,drg_thr2, models = get_thre(fdir, 'ssp585',loc,y1,y2,prc1,prc2)\n",
    "\n",
    "    # future 1\n",
    "    y2=2099\n",
    "    y1=y2-ny+1\n",
    "    print('\\nfuture: '+str(y1)+'-'+str(y2))\n",
    "    mhw_a2, drt_a2 = freq_coevents(fdir,'ssp585',loc,mhw_thr,drg_thr, drg_thr2,models, y1,y2)\n",
    "\n",
    "\n",
    "    return mhw_a2, drt_a2"
   ]
  },
  {
   "cell_type": "code",
   "execution_count": 48,
   "metadata": {},
   "outputs": [],
   "source": [
    "# Frequency of events - detrended data, using individual threshols\n",
    "## percentiles 90-10"
   ]
  },
  {
   "cell_type": "code",
   "execution_count": 49,
   "metadata": {
    "scrolled": true
   },
   "outputs": [
    {
     "name": "stdout",
     "output_type": "stream",
     "text": [
      "\n",
      "Percentiles: 90/10\n",
      "\n",
      "Probable # events in 30 years: 0.3\n",
      "\n",
      "future: 2070-2099\n"
     ]
    }
   ],
   "source": [
    "\n",
    "print ('\\nPercentiles: '+str(prc1)+'/'+str(prc2))\n",
    "print('\\nProbable # events in '+str(ny)+' years'+': '+str(ny*0.01))\n",
    "\n",
    "#fu_m_a, fu_d_a=freq_difruns(fdir,loc,ny, prc1, prc2)\n",
    "mhw_a2, drt_a2=freq_difruns(fdir,loc,ny, prc1, prc2)\n",
    "\n",
    "fu_m_a=list()\n",
    "fu_d_a=list()\n",
    "\n",
    "for i in range(int(500/ny)):\n",
    "    fu_m_a.append(mhw_a2)\n",
    "    fu_d_a.append(drt_a2)"
   ]
  },
  {
   "cell_type": "code",
   "execution_count": 50,
   "metadata": {},
   "outputs": [
    {
     "data": {
      "image/png": "[encoded data removed]",
      "text/plain": [
       "<Figure size 360x288 with 1 Axes>"
      ]
     },
     "metadata": {},
     "output_type": "display_data"
    },
    {
     "data": {
      "image/png": "[encoded data removed]",
      "text/plain": [
       "<Figure size 360x288 with 1 Axes>"
      ]
     },
     "metadata": {},
     "output_type": "display_data"
    },
    {
     "data": {
      "image/png": "[encoded data removed]",
      "text/plain": [
       "<Figure size 360x288 with 1 Axes>"
      ]
     },
     "metadata": {},
     "output_type": "display_data"
    }
   ],
   "source": [
    "import seaborn as sns\n",
    "sns.set(style=\"white\", palette=\"muted\", color_codes=True)\n",
    "bw=0.05\n",
    "\n",
    "fig, ax1 = plt.subplots(figsize=(5,4))\n",
    "DS=np.nanmean(np.array(pi_m_a),axis=1)\n",
    "nbin=int((max(DS.flatten())-min(DS.flatten()))/bw)\n",
    "ax1=sns.distplot(np.nanmean(np.array(pi_m_a),axis=1), bins=nbin,hist=True, color='b',label='PI')  #, ax=axes[0, 0])hist=False,\n",
    "DS=np.nanmean(np.array(fu_m_a),axis=1)\n",
    "nbin=int((max(DS.flatten())-min(DS.flatten()))/bw)\n",
    "ax1=sns.distplot(np.nanmean(np.array(fu_m_a),axis=1), bins=nbin,hist=True, color='r',label='SSP585')  #, ax=axes[0, 0])hist=False,\n",
    "plt.title('MME')\n",
    "plt.legend()\n",
    "plt.show()\n",
    "\n",
    "fig, ax1 = plt.subplots(figsize=(5,4))\n",
    "DS=np.nanmean(np.array(pi_m_a),axis=0)\n",
    "nbin=int((max(DS.flatten())-min(DS.flatten()))/bw)\n",
    "ax1=sns.distplot(np.nanmean(np.array(pi_m_a),axis=0), bins=nbin,hist=True, color='b',label='PI')  #, ax=axes[0, 0])hist=False,\n",
    "DS=np.nanmean(np.array(fu_m_a),axis=0)\n",
    "nbin=int((max(DS.flatten())-min(DS.flatten()))/bw)\n",
    "ax1=sns.distplot(np.nanmean(np.array(fu_m_a),axis=0), bins=nbin,hist=True, color='r',label='SSP585')  #, ax=axes[0, 0])hist=False,\n",
    "plt.title('Cross model')\n",
    "plt.legend()\n",
    "plt.show()\n",
    "\n",
    "\n",
    "fig, ax1 = plt.subplots(figsize=(5,4))\n",
    "DS=np.array(pi_m_a)\n",
    "nbin=int((max(DS.flatten())-min(DS.flatten()))/bw)\n",
    "ax1=sns.distplot(pi_m_a, bins=nbin,hist=True, color='b',label='PI')  #, ax=axes[0, 0])hist=False,\n",
    "DS=np.array(fu_m_a)\n",
    "nbin=int((max(DS.flatten())-min(DS.flatten()))/bw)\n",
    "ax1=sns.distplot(fu_m_a, bins=nbin,hist=True, color='r',label='SSP585')  #, ax=axes[0, 0])hist=False,                \n",
    "plt.title('All')\n",
    "plt.legend()\n",
    "plt.show()"
   ]
  },
  {
   "cell_type": "code",
   "execution_count": 51,
   "metadata": {},
   "outputs": [],
   "source": [
    "anom=[np.asarray(pi_m_a),np.asarray(pi_d_a),np.asarray(fu_m_a),np.asarray(fu_d_a)]\n",
    "np.save('goa_'+loc+'_detrend_anom.npy',anom)"
   ]
  },
  {
   "cell_type": "code",
   "execution_count": null,
   "metadata": {},
   "outputs": [],
   "source": []
  }
 ],
 "metadata": {
  "kernelspec": {
   "display_name": "Python 3",
   "language": "python",
   "name": "python3"
  },
  "language_info": {
   "codemirror_mode": {
    "name": "ipython",
    "version": 3
   },
   "file_extension": ".py",
   "mimetype": "text/x-python",
   "name": "python",
   "nbconvert_exporter": "python",
   "pygments_lexer": "ipython3",
   "version": "3.7.1"
  }
 },
 "nbformat": 4,
 "nbformat_minor": 4
}
