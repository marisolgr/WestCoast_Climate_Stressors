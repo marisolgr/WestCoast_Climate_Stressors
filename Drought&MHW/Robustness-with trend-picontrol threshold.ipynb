{
 "cells": [
  {
   "cell_type": "markdown",
   "metadata": {},
   "source": [
    "# Calculate robusteness from pi control runs"
   ]
  },
  {
   "cell_type": "code",
   "execution_count": 79,
   "metadata": {},
   "outputs": [],
   "source": [
    "# Some definitions\n",
    "\n",
    "# directory of data\n",
    "#fdir = '~/Google Drive/professional/research/FARALLON_INSTITUTE_PROJECTS/2020 NOAA MAPP/Climate_extremes_sharedfigsandcode/data/FOR SCATTER PLOT/'\n",
    "fdir = '/Volumes/GoogleDrive/My Drive/Climate_extremes_sharedfigsandcode/data/FOR SCATTER PLOT/'"
   ]
  },
  {
   "cell_type": "code",
   "execution_count": 80,
   "metadata": {},
   "outputs": [],
   "source": [
    "# Modules\n",
    "import xarray as xr\n",
    "import numpy as np\n",
    "import pandas as pd\n",
    "import matplotlib.pyplot as plt\n",
    "import warnings\n",
    "warnings.simplefilter('ignore') #filter some warning messages\n",
    "import seaborn as sns"
   ]
  },
  {
   "cell_type": "code",
   "execution_count": 81,
   "metadata": {},
   "outputs": [],
   "source": [
    "def num_coevents(y1, y2, pct1, pct2, runs='picontrol'):\n",
    "    # \n",
    "    fin1 = fdir+'original ts/'+runs+'_goa_sst.nc'\n",
    "    fin2 = fdir+'original ts/'+runs+'_sm.nc'\n",
    "    modsst = xr.open_dataset(fin1)\n",
    "    modsst.close()\n",
    "    modsm2 = xr.open_dataset(fin2)\n",
    "    modsm2.close()\n",
    "    \n",
    "    models = modsm2.model\n",
    "\n",
    "    # selec periood\n",
    "    modsst = modsst.sel(year=slice(y1,y2))\n",
    "    modsm2 = modsm2.sel(year=slice(y1,y2))\n",
    "    \n",
    "    nev = list()\n",
    "    \n",
    "    for ix,i in enumerate(models):\n",
    "        #print(ix,i)\n",
    "        tmp1= modsst.sel(model=i).sst.values\n",
    "        tmp2= modsm2.sel(model=i).sm.values\n",
    "    \n",
    "        # calculate threshold\n",
    "        mhw_thr = np.nanpercentile(tmp1,pct1)\n",
    "        drg_thr = np.nanpercentile(tmp2,pct2)\n",
    "    \n",
    "        a1 = tmp1>=mhw_thr\n",
    "        a2 = tmp2<=drg_thr\n",
    "        \n",
    "        tmp = np.full((len(modsst.year.values),1),1)\n",
    "        tmp = tmp[a1*a2]\n",
    "    \n",
    "        nev.append(len(tmp)) #/(y2-y1+1)) #freq.\n",
    "        \n",
    "    return nev  # sum(nev)"
   ]
  },
  {
   "cell_type": "code",
   "execution_count": 82,
   "metadata": {},
   "outputs": [
    {
     "data": {
      "text/plain": [
       "([[0, 0, 0, 0, 0, 2, 0, 1, 0, 0, 2, 0, 2, 1, 0, 0, 0, 0, 1, 0, 0, 1],\n",
       "  [0, 0, 0, 0, 0, 0, 0, 0, 0, 0, 1, 1, 0, 0, 0, 0, 0, 1, 0, 2, 0, 1],\n",
       "  [0, 2, 0, 1, 1, 1, 0, 0, 0, 0, 0, 1, 0, 0, 0, 0, 0, 0, 1, 1, 0, 0],\n",
       "  [0, 0, 0, 1, 0, 0, 0, 0, 2, 0, 0, 0, 1, 0, 1, 0, 0, 0, 0, 0, 0, 0],\n",
       "  [0, 1, 0, 2, 0, 0, 0, 0, 0, 0, 1, 2, 0, 1, 0, 0, 2, 0, 0, 0, 2, 0],\n",
       "  [0, 1, 1, 0, 0, 0, 0, 0, 0, 1, 0, 2, 1, 2, 0, 1, 0, 0, 0, 0, 0, 0],\n",
       "  [0, 0, 0, 0, 0, 0, 0, 1, 0, 0, 0, 0, 1, 0, 0, 2, 0, 0, 0, 0, 0, 0],\n",
       "  [1, 1, 1, 0, 0, 0, 0, 0, 0, 0, 0, 1, 0, 0, 0, 2, 0, 0, 0, 1, 0, 0],\n",
       "  [0, 1, 0, 0, 0, 0, 0, 0, 1, 1, 1, 0, 0, 1, 0, 1, 1, 0, 2, 0, 0, 0],\n",
       "  [0, 0, 0, 0, 0, 0, 0, 0, 0, 0, 0, 0, 0, 0, 0, 1, 1, 1, 0, 2, 0, 0],\n",
       "  [1, 1, 0, 0, 0, 0, 1, 0, 0, 0, 0, 0, 0, 0, 0, 0, 0, 0, 1, 0, 0, 1],\n",
       "  [2, 1, 0, 1, 1, 1, 0, 0, 1, 0, 1, 0, 0, 0, 0, 0, 0, 0, 0, 0, 0, 0],\n",
       "  [0, 0, 0, 0, 0, 1, 1, 0, 1, 0, 0, 0, 1, 1, 1, 1, 0, 0, 1, 0, 0, 0],\n",
       "  [0, 0, 0, 1, 0, 0, 0, 0, 0, 0, 1, 0, 0, 1, 1, 0, 1, 1, 0, 0, 1, 0],\n",
       "  [0, 0, 1, 0, 0, 1, 0, 0, 2, 0, 0, 0, 0, 0, 0, 0, 1, 1, 0, 0, 0, 0],\n",
       "  [0, 1, 0, 1, 1, 1, 0, 2, 0, 0, 1, 2, 0, 0, 0, 1, 0, 0, 0, 1, 0, 0]],\n",
       " 0.3380681818181818)"
      ]
     },
     "execution_count": 82,
     "metadata": {},
     "output_type": "execute_result"
    }
   ],
   "source": [
    "ny = 30\n",
    "prc1 = 90\n",
    "prc2 = 10\n",
    "\n",
    "pinev=list()\n",
    "for i in range(int(500/ny)):\n",
    "    nev = num_coevents(i*ny, (i+1)*ny-1, prc1 , prc2)\n",
    "    pinev.append(nev)\n",
    "pinev,np.mean(pinev) "
   ]
  },
  {
   "cell_type": "code",
   "execution_count": 83,
   "metadata": {},
   "outputs": [],
   "source": [
    "#model by model"
   ]
  },
  {
   "cell_type": "code",
   "execution_count": 84,
   "metadata": {},
   "outputs": [
    {
     "data": {
      "text/plain": [
       "array([0.25  , 0.5625, 0.1875, 0.4375, 0.1875, 0.4375, 0.125 , 0.25  ,\n",
       "       0.4375, 0.125 , 0.5   , 0.5625, 0.375 , 0.4375, 0.1875, 0.5625,\n",
       "       0.375 , 0.25  , 0.375 , 0.4375, 0.1875, 0.1875])"
      ]
     },
     "execution_count": 84,
     "metadata": {},
     "output_type": "execute_result"
    }
   ],
   "source": [
    "model_mean=np.mean(pinev,axis=0)\n",
    "model_spread=np.std(pinev,axis=0)\n",
    "model_mean"
   ]
  },
  {
   "cell_type": "code",
   "execution_count": 85,
   "metadata": {},
   "outputs": [],
   "source": [
    "#16 30-yr periods MMEs"
   ]
  },
  {
   "cell_type": "code",
   "execution_count": 86,
   "metadata": {},
   "outputs": [
    {
     "data": {
      "text/plain": [
       "(array([0.45454545, 0.27272727, 0.36363636, 0.22727273, 0.5       ,\n",
       "        0.40909091, 0.18181818, 0.31818182, 0.40909091, 0.22727273,\n",
       "        0.22727273, 0.36363636, 0.36363636, 0.31818182, 0.27272727,\n",
       "        0.5       ]),\n",
       " 0.5652209003160089)"
      ]
     },
     "execution_count": 86,
     "metadata": {},
     "output_type": "execute_result"
    }
   ],
   "source": [
    "mme_mean=np.mean(pinev,axis=1)\n",
    "mme_spread=np.std(pinev,axis=1)\n",
    "#internal variability mean and spread\n",
    "mme_mean,np.mean(mme_spread)"
   ]
  },
  {
   "cell_type": "code",
   "execution_count": 87,
   "metadata": {},
   "outputs": [],
   "source": [
    "#MME mean and spread"
   ]
  },
  {
   "cell_type": "code",
   "execution_count": 88,
   "metadata": {},
   "outputs": [
    {
     "data": {
      "text/plain": [
       "(0.3380681818181818, 0.09638179235049645)"
      ]
     },
     "execution_count": 88,
     "metadata": {},
     "output_type": "execute_result"
    }
   ],
   "source": [
    "mme_model_mean=np.mean(mme_mean)\n",
    "mme_model_spread=np.std(mme_mean)\n",
    "mme_model_mean,mme_model_spread"
   ]
  },
  {
   "cell_type": "code",
   "execution_count": 89,
   "metadata": {},
   "outputs": [],
   "source": [
    "#cross model mean and spread"
   ]
  },
  {
   "cell_type": "code",
   "execution_count": 90,
   "metadata": {},
   "outputs": [
    {
     "data": {
      "text/plain": [
       "(0.3380681818181818, 0.14432824768046065)"
      ]
     },
     "execution_count": 90,
     "metadata": {},
     "output_type": "execute_result"
    }
   ],
   "source": [
    "cross_model_mean=np.mean(model_mean)\n",
    "cross_model_spread=np.std(model_mean)\n",
    "cross_model_mean,cross_model_spread"
   ]
  },
  {
   "cell_type": "code",
   "execution_count": null,
   "metadata": {},
   "outputs": [],
   "source": []
  },
  {
   "cell_type": "code",
   "execution_count": 91,
   "metadata": {},
   "outputs": [],
   "source": [
    "## Calculate thresholds for PI Control runs"
   ]
  },
  {
   "cell_type": "code",
   "execution_count": 92,
   "metadata": {},
   "outputs": [],
   "source": [
    "def get_thre(y1,y2,prc1,prc2):\n",
    "    # open data: anomalies (without trend)\n",
    "\n",
    "    modsst = xr.open_dataset(fdir+'original ts/picontrol_goa_sst.nc')\n",
    "    modsst.close()\n",
    "    modsm2 = xr.open_dataset(fdir+'original ts/picontrol_sm.nc')\n",
    "    modsm2.close()\n",
    "\n",
    "    # select period \n",
    "    modsst = modsst.sel(year=slice(y1,y2))\n",
    "    modsm2 = modsm2.sel(year=slice(y1,y2))\n",
    "    mhw_thr = list()\n",
    "    drg_thr = list()\n",
    "    models = list()\n",
    "\n",
    "    # Calculate thresholds for each model\n",
    "    for ix,i in enumerate(modsm2.model.values):\n",
    "        tmp1= modsst.sel(model=i).sst.values\n",
    "        tmp2= modsm2.sel(model=i).sm.values\n",
    "        \n",
    "        mhw_thr.append(np.nanpercentile(tmp1,prc1))\n",
    "        drg_thr.append(np.nanpercentile(tmp2,prc2))\n",
    "\n",
    "        models.append(i)\n",
    "    \n",
    "    return mhw_thr, drg_thr , models"
   ]
  },
  {
   "cell_type": "code",
   "execution_count": 93,
   "metadata": {},
   "outputs": [],
   "source": [
    "# calculate number of events for control, historical and future\n",
    "# based on pi control thresholds\n",
    "\n",
    "def freq_coevents(fdir, runs, mhw_thr, drg_thr, models, y1, y2):\n",
    "    #pi control\n",
    "    fi1 = fdir+'original ts/'+runs+'_goa_sst.nc'\n",
    "    fi2 = fdir+'original ts/'+runs+'_sm.nc'\n",
    "    modsst = xr.open_dataset(fi1)\n",
    "    modsst.close()\n",
    "    modsm2 = xr.open_dataset(fi2)\n",
    "    modsm2.close()\n",
    "    models=modsm2.model\n",
    "\n",
    "    # select period\n",
    "    modsst = modsst.sel(year=slice(y1,y2))\n",
    "    modsm2 = modsm2.sel(year=slice(y1,y2))\n",
    "\n",
    "    nev = list()\n",
    "\n",
    "    for ix,i in enumerate(models):\n",
    "        #print(ix,i)\n",
    "        tmp1= modsst.sel(model=i).sst.values\n",
    "        tmp2= modsm2.sel(model=i).sm.values\n",
    "\n",
    "        a1 = tmp1>=mhw_thr[ix]\n",
    "        a2 = tmp2<=drg_thr[ix]\n",
    "        tmp = np.full((len(modsst.year.values),1),1)\n",
    "        tmp = tmp[a1*a2]\n",
    "\n",
    "        nev.append(len(tmp))\n",
    "    \n",
    "    freq = np.array(nev) #/(y2-y1+1)\n",
    "    \n",
    "    return nev, np.round(np.nanmean(nev),4), np.round(np.nanstd(nev),4) #mean no. of events\n",
    "#freq, np.round(np.nanmean(freq),4), np.round(np.nanstd(freq),4) #mean frequency\n"
   ]
  },
  {
   "cell_type": "code",
   "execution_count": 94,
   "metadata": {},
   "outputs": [],
   "source": [
    "def freq_difruns(ny, y0,y,prc1, prc2):\n",
    "    \n",
    "    # calculate threshold in pi control\n",
    "    #y2=2014\n",
    "    #y1=y2-ny+1\n",
    "    mhw_thr, drg_thr, models = get_thre(y0,y,prc1,prc2)\n",
    "\n",
    "    print ('Percentiles: '+str(prc1)+'/'+str(prc2))\n",
    "    # pi control\n",
    "    print('piControl: '+str(y0)+'-'+str(y))\n",
    "    #y2=2014\n",
    "    #y1=y2-ny+1\n",
    "    freq0, mfrq, sfrq = freq_coevents(fdir,'picontrol',mhw_thr,drg_thr, models,y0,y)\n",
    "    print(mfrq,sfrq)\n",
    "\n",
    "    # historical 1\n",
    "    y1 = 1900\n",
    "    y2 = y1+ny-1\n",
    "    print('\\nhistorical: '+str(y1)+'-'+str(y2))\n",
    "    freq, mfrq, sfrq = freq_coevents(fdir,'historical',mhw_thr,drg_thr, models, y1,y2)\n",
    "    print(mfrq,sfrq)\n",
    "\n",
    "    # historical 2\n",
    "    y2=2014\n",
    "    y1=y2-ny+1\n",
    "    print('\\nhistorical 2: '+str(y1)+'-'+str(y2))\n",
    "    freq1, mfrq, sfrq = freq_coevents(fdir,'historical',mhw_thr,drg_thr, models, y1,y2)\n",
    "    print(mfrq,sfrq)\n",
    "\n",
    "    # future\n",
    "    y2=2099\n",
    "    y1=y2-ny+1\n",
    "    print('\\nfuture: '+str(y1)+'-'+str(y2))\n",
    "    freq2, mfrq, sfrq = freq_coevents(fdir,'ssp585',mhw_thr,drg_thr, models, y1,y2)\n",
    "    print(mfrq,sfrq)\n",
    "    return freq0,freq1,freq2"
   ]
  },
  {
   "cell_type": "code",
   "execution_count": 95,
   "metadata": {},
   "outputs": [],
   "source": [
    "# Frequency of events - detrended data, using pi control threshols\n",
    "## percentiles 90-10"
   ]
  },
  {
   "cell_type": "code",
   "execution_count": 96,
   "metadata": {
    "scrolled": true
   },
   "outputs": [
    {
     "name": "stdout",
     "output_type": "stream",
     "text": [
      "\n",
      "Percentiles: 90/10\n",
      "\n",
      "Probable # events in 30 years: 0.3\n",
      "Percentiles: 90/10\n",
      "piControl: 0-29\n",
      "0.4545 0.7216\n",
      "\n",
      "historical: 1900-1929\n",
      "1.2273 1.9756\n",
      "\n",
      "historical 2: 1985-2014\n",
      "5.4091 7.4018\n",
      "\n",
      "future: 2070-2099\n",
      "13.4091 10.4214\n",
      "Percentiles: 90/10\n",
      "piControl: 30-59\n",
      "0.2727 0.5378\n",
      "\n",
      "historical: 1900-1929\n",
      "1.7273 2.3584\n",
      "\n",
      "historical 2: 1985-2014\n",
      "4.8182 7.6315\n",
      "\n",
      "future: 2070-2099\n",
      "12.2727 11.1158\n",
      "Percentiles: 90/10\n",
      "piControl: 60-89\n",
      "0.3636 0.5677\n",
      "\n",
      "historical: 1900-1929\n",
      "1.6364 3.1413\n",
      "\n",
      "historical 2: 1985-2014\n",
      "5.5909 8.3375\n",
      "\n",
      "future: 2070-2099\n",
      "13.3636 11.344\n",
      "Percentiles: 90/10\n",
      "piControl: 90-119\n",
      "0.2273 0.5163\n",
      "\n",
      "historical: 1900-1929\n",
      "1.6818 2.343\n",
      "\n",
      "historical 2: 1985-2014\n",
      "5.3182 7.6181\n",
      "\n",
      "future: 2070-2099\n",
      "14.4091 11.1096\n",
      "Percentiles: 90/10\n",
      "piControl: 120-149\n",
      "0.5 0.7833\n",
      "\n",
      "historical: 1900-1929\n",
      "1.5 2.0616\n",
      "\n",
      "historical 2: 1985-2014\n",
      "5.8636 8.2478\n",
      "\n",
      "future: 2070-2099\n",
      "13.8636 10.3717\n",
      "Percentiles: 90/10\n",
      "piControl: 150-179\n",
      "0.4091 0.6508\n",
      "\n",
      "historical: 1900-1929\n",
      "2.0455 3.2957\n",
      "\n",
      "historical 2: 1985-2014\n",
      "6.5455 9.5381\n",
      "\n",
      "future: 2070-2099\n",
      "12.7273 11.2054\n",
      "Percentiles: 90/10\n",
      "piControl: 180-209\n",
      "0.1818 0.4896\n",
      "\n",
      "historical: 1900-1929\n",
      "2.0909 4.5218\n",
      "\n",
      "historical 2: 1985-2014\n",
      "5.6818 8.1708\n",
      "\n",
      "future: 2070-2099\n",
      "12.1818 11.1707\n",
      "Percentiles: 90/10\n",
      "piControl: 210-239\n",
      "0.3182 0.5548\n",
      "\n",
      "historical: 1900-1929\n",
      "1.5455 3.1294\n",
      "\n",
      "historical 2: 1985-2014\n",
      "5.8182 7.7085\n",
      "\n",
      "future: 2070-2099\n",
      "13.0 11.4535\n",
      "Percentiles: 90/10\n",
      "piControl: 240-269\n",
      "0.4091 0.5768\n",
      "\n",
      "historical: 1900-1929\n",
      "2.2727 3.8868\n",
      "\n",
      "historical 2: 1985-2014\n",
      "6.5 8.6642\n",
      "\n",
      "future: 2070-2099\n",
      "14.1818 11.5862\n",
      "Percentiles: 90/10\n",
      "piControl: 270-299\n",
      "0.2273 0.5163\n",
      "\n",
      "historical: 1900-1929\n",
      "1.8182 3.8095\n",
      "\n",
      "historical 2: 1985-2014\n",
      "6.0 8.655\n",
      "\n",
      "future: 2070-2099\n",
      "12.5909 10.8488\n",
      "Percentiles: 90/10\n",
      "piControl: 300-329\n",
      "0.2273 0.4191\n",
      "\n",
      "historical: 1900-1929\n",
      "2.3636 4.6078\n",
      "\n",
      "historical 2: 1985-2014\n",
      "6.0 9.1353\n",
      "\n",
      "future: 2070-2099\n",
      "11.7727 10.9334\n",
      "Percentiles: 90/10\n",
      "piControl: 330-359\n",
      "0.3636 0.5677\n",
      "\n",
      "historical: 1900-1929\n",
      "1.1818 2.1875\n",
      "\n",
      "historical 2: 1985-2014\n",
      "5.7727 8.7694\n",
      "\n",
      "future: 2070-2099\n",
      "11.9091 10.8163\n",
      "Percentiles: 90/10\n",
      "piControl: 360-389\n",
      "0.3636 0.481\n",
      "\n",
      "historical: 1900-1929\n",
      "2.3182 4.1603\n",
      "\n",
      "historical 2: 1985-2014\n",
      "6.6364 10.0975\n",
      "\n",
      "future: 2070-2099\n",
      "13.5 11.4047\n",
      "Percentiles: 90/10\n",
      "piControl: 390-419\n",
      "0.3182 0.4658\n",
      "\n",
      "historical: 1900-1929\n",
      "1.6364 2.9626\n",
      "\n",
      "historical 2: 1985-2014\n",
      "6.4091 9.1137\n",
      "\n",
      "future: 2070-2099\n",
      "12.9091 11.7895\n",
      "Percentiles: 90/10\n",
      "piControl: 420-449\n",
      "0.2727 0.5378\n",
      "\n",
      "historical: 1900-1929\n",
      "2.6364 4.2911\n",
      "\n",
      "historical 2: 1985-2014\n",
      "7.5 9.4904\n",
      "\n",
      "future: 2070-2099\n",
      "13.4545 11.4086\n",
      "Percentiles: 90/10\n",
      "piControl: 450-479\n",
      "0.5 0.6571\n",
      "\n",
      "historical: 1900-1929\n",
      "1.8636 4.6544\n",
      "\n",
      "historical 2: 1985-2014\n",
      "5.8636 8.9458\n",
      "\n",
      "future: 2070-2099\n",
      "13.3636 11.5426\n"
     ]
    },
    {
     "data": {
      "text/plain": [
       "(13.056818181818182, 5.982954545454546, 8.090643748841073)"
      ]
     },
     "execution_count": 96,
     "metadata": {},
     "output_type": "execute_result"
    }
   ],
   "source": [
    "\n",
    "print ('\\nPercentiles: '+str(prc1)+'/'+str(prc2))\n",
    "print('\\nProbable # events in '+str(ny)+' years'+': '+str(ny*0.01))\n",
    "\n",
    "funev=list()\n",
    "hinev=list()\n",
    "test=list()\n",
    "for i in range(int(500/ny)):\n",
    "    pi,hi,fu = freq_difruns(ny,i*ny, (i+1)*ny-1, prc1, prc2)\n",
    "    test.append(pi)\n",
    "    funev.append(fu)\n",
    "    hinev.append(hi)\n",
    "np.mean(funev),np.mean(hinev),np.std(np.mean(hinev,axis=0))"
   ]
  },
  {
   "cell_type": "code",
   "execution_count": 97,
   "metadata": {},
   "outputs": [
    {
     "data": {
      "text/plain": [
       "(0.3380681818181818, 0.3380681818181818)"
      ]
     },
     "execution_count": 97,
     "metadata": {},
     "output_type": "execute_result"
    }
   ],
   "source": [
    "np.mean(test),np.mean(pinev)"
   ]
  },
  {
   "cell_type": "code",
   "execution_count": 98,
   "metadata": {},
   "outputs": [],
   "source": [
    "#model by model"
   ]
  },
  {
   "cell_type": "code",
   "execution_count": 99,
   "metadata": {},
   "outputs": [
    {
     "data": {
      "text/plain": [
       "array([ 2.6875,  4.875 , 30.    , 20.625 ,  2.375 ,  1.125 , 17.9375,\n",
       "       29.75  , 30.    , 30.    , 23.3125, 25.75  ,  7.25  ,  0.0625,\n",
       "       12.125 ,  7.1875,  4.75  ,  6.    , 12.9375,  8.9375,  9.5625,\n",
       "        0.    ])"
      ]
     },
     "execution_count": 99,
     "metadata": {},
     "output_type": "execute_result"
    }
   ],
   "source": [
    "fu_model_mean=np.mean(funev,axis=0)\n",
    "fu_model_spread=np.std(funev,axis=0)\n",
    "fu_model_mean"
   ]
  },
  {
   "cell_type": "code",
   "execution_count": 100,
   "metadata": {},
   "outputs": [
    {
     "data": {
      "text/plain": [
       "(13.056818181818182, 10.605679443908448)"
      ]
     },
     "execution_count": 100,
     "metadata": {},
     "output_type": "execute_result"
    }
   ],
   "source": [
    "np.mean(fu_model_mean),np.std(fu_model_mean)"
   ]
  },
  {
   "cell_type": "code",
   "execution_count": 101,
   "metadata": {},
   "outputs": [],
   "source": [
    "#mme mean and spread"
   ]
  },
  {
   "cell_type": "code",
   "execution_count": 102,
   "metadata": {},
   "outputs": [
    {
     "data": {
      "text/plain": [
       "11.157641923692989"
      ]
     },
     "execution_count": 102,
     "metadata": {},
     "output_type": "execute_result"
    }
   ],
   "source": [
    "fu_mme_mean=np.mean(funev,axis=1)\n",
    "fu_mme_spread=np.std(funev,axis=1)\n",
    "np.mean(fu_mme_spread)"
   ]
  },
  {
   "cell_type": "code",
   "execution_count": 103,
   "metadata": {},
   "outputs": [
    {
     "data": {
      "text/plain": [
       "(array([13.40909091, 12.27272727, 13.36363636, 14.40909091, 13.86363636,\n",
       "        12.72727273, 12.18181818, 13.        , 14.18181818, 12.59090909,\n",
       "        11.77272727, 11.90909091, 13.5       , 12.90909091, 13.45454545,\n",
       "        13.36363636]),\n",
       " 13.056818181818182,\n",
       " 0.7545488773197284)"
      ]
     },
     "execution_count": 103,
     "metadata": {},
     "output_type": "execute_result"
    }
   ],
   "source": [
    "fu_mme_mean,np.mean(fu_mme_mean),np.std(fu_mme_mean)"
   ]
  },
  {
   "cell_type": "code",
   "execution_count": 104,
   "metadata": {},
   "outputs": [],
   "source": [
    "#16 MMEs diff and spread"
   ]
  },
  {
   "cell_type": "code",
   "execution_count": 105,
   "metadata": {},
   "outputs": [
    {
     "data": {
      "text/plain": [
       "[12.954545454545453,\n",
       " 12.0,\n",
       " 13.0,\n",
       " 14.181818181818182,\n",
       " 13.363636363636363,\n",
       " 12.318181818181818,\n",
       " 12.0,\n",
       " 12.681818181818182,\n",
       " 13.772727272727273,\n",
       " 12.363636363636365,\n",
       " 11.545454545454547,\n",
       " 11.545454545454545,\n",
       " 13.136363636363637,\n",
       " 12.59090909090909,\n",
       " 13.181818181818182,\n",
       " 12.863636363636363]"
      ]
     },
     "execution_count": 105,
     "metadata": {},
     "output_type": "execute_result"
    }
   ],
   "source": [
    "diff=list()\n",
    "zip_obj=zip(fu_mme_mean,mme_mean)\n",
    "for i , j in zip_obj:\n",
    "        diff.append(i-j)\n",
    "diff"
   ]
  },
  {
   "cell_type": "code",
   "execution_count": 106,
   "metadata": {},
   "outputs": [
    {
     "data": {
      "text/plain": [
       "(12.71875, 0.7203539415706445)"
      ]
     },
     "execution_count": 106,
     "metadata": {},
     "output_type": "execute_result"
    }
   ],
   "source": [
    "diff_mean=np.mean(diff)\n",
    "diff_spread=np.std(diff)\n",
    "diff_mean,diff_spread"
   ]
  },
  {
   "cell_type": "code",
   "execution_count": 107,
   "metadata": {},
   "outputs": [],
   "source": [
    "#model by model diff and spread"
   ]
  },
  {
   "cell_type": "code",
   "execution_count": 108,
   "metadata": {
    "scrolled": true
   },
   "outputs": [
    {
     "data": {
      "text/plain": [
       "[2.4375,\n",
       " 4.3125,\n",
       " 29.8125,\n",
       " 20.1875,\n",
       " 2.1875,\n",
       " 0.6875,\n",
       " 17.8125,\n",
       " 29.5,\n",
       " 29.5625,\n",
       " 29.875,\n",
       " 22.8125,\n",
       " 25.1875,\n",
       " 6.875,\n",
       " -0.375,\n",
       " 11.9375,\n",
       " 6.625,\n",
       " 4.375,\n",
       " 5.75,\n",
       " 12.5625,\n",
       " 8.5,\n",
       " 9.375,\n",
       " -0.1875]"
      ]
     },
     "execution_count": 108,
     "metadata": {},
     "output_type": "execute_result"
    }
   ],
   "source": [
    "diff=list()\n",
    "zip_obj=zip(fu_model_mean,model_mean)\n",
    "for i , j in zip_obj:\n",
    "        diff.append(i-j)\n",
    "diff"
   ]
  },
  {
   "cell_type": "code",
   "execution_count": 109,
   "metadata": {},
   "outputs": [
    {
     "data": {
      "text/plain": [
       "(12.71875, 10.617439656431044)"
      ]
     },
     "execution_count": 109,
     "metadata": {},
     "output_type": "execute_result"
    }
   ],
   "source": [
    "diff_mean=np.mean(diff)\n",
    "diff_spread=np.std(diff)\n",
    "diff_mean,diff_spread"
   ]
  },
  {
   "cell_type": "code",
   "execution_count": null,
   "metadata": {},
   "outputs": [],
   "source": []
  },
  {
   "cell_type": "code",
   "execution_count": null,
   "metadata": {},
   "outputs": [],
   "source": []
  }
 ],
 "metadata": {
  "kernelspec": {
   "display_name": "Python 3",
   "language": "python",
   "name": "python3"
  },
  "language_info": {
   "codemirror_mode": {
    "name": "ipython",
    "version": 3
   },
   "file_extension": ".py",
   "mimetype": "text/x-python",
   "name": "python",
   "nbconvert_exporter": "python",
   "pygments_lexer": "ipython3",
   "version": "3.7.6"
  }
 },
 "nbformat": 4,
 "nbformat_minor": 4
}
