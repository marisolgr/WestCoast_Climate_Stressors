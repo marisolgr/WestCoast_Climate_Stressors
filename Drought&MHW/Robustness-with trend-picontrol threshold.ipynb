{
 "cells": [
  {
   "cell_type": "markdown",
   "metadata": {},
   "source": [
    "# Calculate robusteness from pi control runs"
   ]
  },
  {
   "cell_type": "code",
   "execution_count": 32,
   "metadata": {},
   "outputs": [],
   "source": [
    "# Some definitions\n",
    "\n",
    "# directory of data\n",
    "#fdir = '~/Google Drive/professional/research/FARALLON_INSTITUTE_PROJECTS/2020 NOAA MAPP/Climate_extremes_sharedfigsandcode/data/FOR SCATTER PLOT/'\n",
    "fdir = '/Volumes/GoogleDrive/My Drive/Climate_extremes_sharedfigsandcode/data/FOR SCATTER PLOT/'"
   ]
  },
  {
   "cell_type": "code",
   "execution_count": 33,
   "metadata": {},
   "outputs": [],
   "source": [
    "# Modules\n",
    "import xarray as xr\n",
    "import numpy as np\n",
    "import pandas as pd\n",
    "import matplotlib.pyplot as plt\n",
    "import warnings\n",
    "warnings.simplefilter('ignore') #filter some warning messages\n",
    "import seaborn as sns"
   ]
  },
  {
   "cell_type": "code",
   "execution_count": 34,
   "metadata": {},
   "outputs": [],
   "source": [
    "def num_coevents(y1, y2, pct1, pct2, runs='picontrol'):\n",
    "    # \n",
    "    fin1 = fdir+'original ts/'+runs+'_sst.nc'\n",
    "    fin2 = fdir+'original ts/'+runs+'_sm.nc'\n",
    "    modsst = xr.open_dataset(fin1)\n",
    "    modsst.close()\n",
    "    modsm2 = xr.open_dataset(fin2)\n",
    "    modsm2.close()\n",
    "    \n",
    "    models = modsm2.model\n",
    "\n",
    "    # selec periood\n",
    "    modsst = modsst.sel(year=slice(y1,y2))\n",
    "    modsm2 = modsm2.sel(year=slice(y1,y2))\n",
    "    \n",
    "    nev = list()\n",
    "    \n",
    "    for ix,i in enumerate(models):\n",
    "        #print(ix,i)\n",
    "        tmp1= modsst.sel(model=i).sst.values\n",
    "        tmp2= modsm2.sel(model=i).sm.values\n",
    "    \n",
    "        # calculate threshold\n",
    "        mhw_thr = np.nanpercentile(tmp1,pct1)\n",
    "        drg_thr = np.nanpercentile(tmp2,pct2)\n",
    "    \n",
    "        a1 = tmp1>=mhw_thr\n",
    "        a2 = tmp2<=drg_thr\n",
    "        \n",
    "        tmp = np.full((len(modsst.year.values),1),1)\n",
    "        tmp = tmp[a1*a2]\n",
    "    \n",
    "        nev.append(len(tmp)) #/(y2-y1+1)) #freq.\n",
    "        \n",
    "    return nev  # sum(nev)"
   ]
  },
  {
   "cell_type": "code",
   "execution_count": 36,
   "metadata": {},
   "outputs": [
    {
     "data": {
      "text/plain": [
       "([[1, 0, 0, 1, 0, 0, 0, 0, 0, 0, 0, 0, 0, 0, 3, 0, 0, 0, 0, 0, 0, 0],\n",
       "  [0, 0, 1, 1, 1, 0, 0, 0, 1, 0, 0, 0, 1, 0, 1, 1, 1, 1, 1, 1, 0, 0],\n",
       "  [0, 0, 1, 0, 0, 0, 0, 1, 0, 0, 0, 0, 0, 0, 0, 0, 0, 0, 1, 0, 0, 0],\n",
       "  [0, 0, 1, 0, 0, 1, 0, 0, 0, 0, 0, 1, 1, 0, 1, 0, 0, 1, 0, 0, 0, 0],\n",
       "  [0, 0, 0, 0, 0, 0, 0, 0, 0, 1, 0, 0, 1, 0, 2, 0, 0, 0, 0, 0, 0, 0],\n",
       "  [0, 0, 0, 0, 0, 0, 1, 0, 0, 0, 1, 0, 0, 0, 1, 0, 0, 0, 0, 0, 1, 0],\n",
       "  [0, 0, 0, 1, 0, 0, 1, 1, 0, 0, 0, 1, 1, 0, 0, 0, 0, 0, 0, 0, 0, 0],\n",
       "  [0, 0, 0, 0, 1, 0, 0, 0, 0, 0, 1, 1, 0, 0, 0, 0, 0, 1, 0, 0, 0, 0],\n",
       "  [0, 0, 0, 1, 0, 0, 0, 0, 0, 1, 0, 0, 1, 0, 1, 0, 0, 0, 1, 1, 0, 0],\n",
       "  [0, 0, 0, 0, 0, 1, 2, 0, 0, 0, 0, 1, 0, 0, 0, 1, 1, 0, 0, 0, 0, 0],\n",
       "  [0, 0, 0, 0, 0, 0, 0, 1, 0, 0, 1, 1, 0, 0, 0, 0, 0, 0, 0, 0, 1, 1],\n",
       "  [2, 0, 0, 0, 0, 0, 0, 0, 0, 0, 0, 1, 0, 0, 0, 0, 0, 2, 0, 0, 0, 0],\n",
       "  [0, 0, 0, 0, 0, 0, 0, 0, 0, 1, 1, 0, 0, 0, 1, 0, 0, 0, 1, 0, 0, 0],\n",
       "  [0, 0, 0, 0, 0, 0, 1, 0, 0, 0, 0, 0, 0, 0, 0, 0, 0, 0, 0, 0, 0, 0],\n",
       "  [1, 0, 0, 0, 0, 0, 0, 0, 0, 0, 2, 0, 0, 0, 1, 0, 1, 0, 0, 1, 0, 1],\n",
       "  [0, 0, 0, 0, 0, 0, 0, 1, 0, 0, 1, 0, 0, 0, 0, 0, 0, 1, 0, 0, 0, 1]],\n",
       " 0.22727272727272727)"
      ]
     },
     "execution_count": 36,
     "metadata": {},
     "output_type": "execute_result"
    }
   ],
   "source": [
    "ny = 30\n",
    "prc1 = 90\n",
    "prc2 = 10\n",
    "\n",
    "pinev=list()\n",
    "for i in range(int(500/ny)):\n",
    "    nev = num_coevents(i*ny, (i+1)*ny-1, prc1 , prc2)\n",
    "    pinev.append(nev)\n",
    "pinev,np.mean(pinev) "
   ]
  },
  {
   "cell_type": "code",
   "execution_count": 37,
   "metadata": {},
   "outputs": [],
   "source": [
    "#model by model"
   ]
  },
  {
   "cell_type": "code",
   "execution_count": 38,
   "metadata": {},
   "outputs": [
    {
     "data": {
      "text/plain": [
       "array([0.25  , 0.    , 0.1875, 0.25  , 0.125 , 0.125 , 0.3125, 0.25  ,\n",
       "       0.0625, 0.1875, 0.4375, 0.375 , 0.3125, 0.    , 0.6875, 0.125 ,\n",
       "       0.1875, 0.375 , 0.25  , 0.1875, 0.125 , 0.1875])"
      ]
     },
     "execution_count": 38,
     "metadata": {},
     "output_type": "execute_result"
    }
   ],
   "source": [
    "model_mean=np.mean(pinev,axis=0)\n",
    "model_spread=np.std(pinev,axis=0)\n",
    "model_mean"
   ]
  },
  {
   "cell_type": "code",
   "execution_count": 39,
   "metadata": {},
   "outputs": [],
   "source": [
    "#16 30-yr periods MMEs"
   ]
  },
  {
   "cell_type": "code",
   "execution_count": 40,
   "metadata": {},
   "outputs": [
    {
     "data": {
      "text/plain": [
       "(array([0.22727273, 0.5       , 0.13636364, 0.27272727, 0.18181818,\n",
       "        0.18181818, 0.22727273, 0.18181818, 0.27272727, 0.27272727,\n",
       "        0.22727273, 0.22727273, 0.18181818, 0.04545455, 0.31818182,\n",
       "        0.18181818]),\n",
       " 0.44829958403652315)"
      ]
     },
     "execution_count": 40,
     "metadata": {},
     "output_type": "execute_result"
    }
   ],
   "source": [
    "mme_mean=np.mean(pinev,axis=1)\n",
    "mme_spread=np.std(pinev,axis=1)\n",
    "#internal variability mean and spread\n",
    "mme_mean,np.mean(mme_spread)"
   ]
  },
  {
   "cell_type": "code",
   "execution_count": 41,
   "metadata": {},
   "outputs": [],
   "source": [
    "#MME mean and spread"
   ]
  },
  {
   "cell_type": "code",
   "execution_count": 42,
   "metadata": {},
   "outputs": [
    {
     "data": {
      "text/plain": [
       "(0.22727272727272727, 0.09370694603676501)"
      ]
     },
     "execution_count": 42,
     "metadata": {},
     "output_type": "execute_result"
    }
   ],
   "source": [
    "mme_model_mean=np.mean(mme_mean)\n",
    "mme_model_spread=np.std(mme_mean)\n",
    "mme_model_mean,mme_model_spread"
   ]
  },
  {
   "cell_type": "code",
   "execution_count": 43,
   "metadata": {},
   "outputs": [],
   "source": [
    "#cross model mean and spread"
   ]
  },
  {
   "cell_type": "code",
   "execution_count": 44,
   "metadata": {},
   "outputs": [
    {
     "data": {
      "text/plain": [
       "(0.22727272727272727, 0.15021936439093506)"
      ]
     },
     "execution_count": 44,
     "metadata": {},
     "output_type": "execute_result"
    }
   ],
   "source": [
    "cross_model_mean=np.mean(model_mean)\n",
    "cross_model_spread=np.std(model_mean)\n",
    "cross_model_mean,cross_model_spread"
   ]
  },
  {
   "cell_type": "code",
   "execution_count": null,
   "metadata": {},
   "outputs": [],
   "source": []
  },
  {
   "cell_type": "code",
   "execution_count": 45,
   "metadata": {},
   "outputs": [],
   "source": [
    "## Calculate thresholds for PI Control runs"
   ]
  },
  {
   "cell_type": "code",
   "execution_count": 46,
   "metadata": {},
   "outputs": [],
   "source": [
    "def get_thre(y1,y2,prc1,prc2):\n",
    "    # open data: anomalies (without trend)\n",
    "\n",
    "    modsst = xr.open_dataset(fdir+'original ts/picontrol_sst.nc')\n",
    "    modsst.close()\n",
    "    modsm2 = xr.open_dataset(fdir+'original ts/picontrol_sm.nc')\n",
    "    modsm2.close()\n",
    "\n",
    "    # select period \n",
    "    modsst = modsst.sel(year=slice(y1,y2))\n",
    "    modsm2 = modsm2.sel(year=slice(y1,y2))\n",
    "    mhw_thr = list()\n",
    "    drg_thr = list()\n",
    "    models = list()\n",
    "\n",
    "    # Calculate thresholds for each model\n",
    "    for ix,i in enumerate(modsm2.model.values):\n",
    "        tmp1= modsst.sel(model=i).sst.values\n",
    "        tmp2= modsm2.sel(model=i).sm.values\n",
    "        \n",
    "        mhw_thr.append(np.nanpercentile(tmp1,prc1))\n",
    "        drg_thr.append(np.nanpercentile(tmp2,prc2))\n",
    "\n",
    "        models.append(i)\n",
    "    \n",
    "    return mhw_thr, drg_thr , models"
   ]
  },
  {
   "cell_type": "code",
   "execution_count": 47,
   "metadata": {},
   "outputs": [],
   "source": [
    "# calculate number of events for control, historical and future\n",
    "# based on pi control thresholds\n",
    "\n",
    "def freq_coevents(fdir, runs, mhw_thr, drg_thr, models, y1, y2):\n",
    "    #pi control\n",
    "    fi1 = fdir+'original ts/'+runs+'_sst.nc'\n",
    "    fi2 = fdir+'original ts/'+runs+'_sm.nc'\n",
    "    modsst = xr.open_dataset(fi1)\n",
    "    modsst.close()\n",
    "    modsm2 = xr.open_dataset(fi2)\n",
    "    modsm2.close()\n",
    "    models=modsm2.model\n",
    "\n",
    "    # select period\n",
    "    modsst = modsst.sel(year=slice(y1,y2))\n",
    "    modsm2 = modsm2.sel(year=slice(y1,y2))\n",
    "\n",
    "    nev = list()\n",
    "\n",
    "    for ix,i in enumerate(models):\n",
    "        #print(ix,i)\n",
    "        tmp1= modsst.sel(model=i).sst.values\n",
    "        tmp2= modsm2.sel(model=i).sm.values\n",
    "\n",
    "        a1 = tmp1>=mhw_thr[ix]\n",
    "        a2 = tmp2<=drg_thr[ix]\n",
    "        tmp = np.full((len(modsst.year.values),1),1)\n",
    "        tmp = tmp[a1*a2]\n",
    "\n",
    "        nev.append(len(tmp))\n",
    "    \n",
    "    freq = np.array(nev) #/(y2-y1+1)\n",
    "    \n",
    "    return nev, np.round(np.nanmean(nev),4), np.round(np.nanstd(nev),4) #mean no. of events\n",
    "#freq, np.round(np.nanmean(freq),4), np.round(np.nanstd(freq),4) #mean frequency\n"
   ]
  },
  {
   "cell_type": "code",
   "execution_count": 48,
   "metadata": {},
   "outputs": [],
   "source": [
    "def freq_difruns(ny, y0,y,prc1, prc2):\n",
    "    \n",
    "    # calculate threshold in pi control\n",
    "    #y2=2014\n",
    "    #y1=y2-ny+1\n",
    "    mhw_thr, drg_thr, models = get_thre(y0,y,prc1,prc2)\n",
    "\n",
    "    print ('Percentiles: '+str(prc1)+'/'+str(prc2))\n",
    "    # pi control\n",
    "    print('piControl: '+str(y0)+'-'+str(y))\n",
    "    #y2=2014\n",
    "    #y1=y2-ny+1\n",
    "    freq0, mfrq, sfrq = freq_coevents(fdir,'picontrol',mhw_thr,drg_thr, models,y0,y)\n",
    "    print(mfrq,sfrq)\n",
    "\n",
    "    # historical 1\n",
    "    y1 = 1900\n",
    "    y2 = y1+ny-1\n",
    "    print('\\nhistorical: '+str(y1)+'-'+str(y2))\n",
    "    freq, mfrq, sfrq = freq_coevents(fdir,'historical',mhw_thr,drg_thr, models, y1,y2)\n",
    "    print(mfrq,sfrq)\n",
    "\n",
    "    # historical 2\n",
    "    y2=2014\n",
    "    y1=y2-ny+1\n",
    "    print('\\nhistorical 2: '+str(y1)+'-'+str(y2))\n",
    "    freq1, mfrq, sfrq = freq_coevents(fdir,'historical',mhw_thr,drg_thr, models, y1,y2)\n",
    "    print(mfrq,sfrq)\n",
    "\n",
    "    # future\n",
    "    y2=2099\n",
    "    y1=y2-ny+1\n",
    "    print('\\nfuture: '+str(y1)+'-'+str(y2))\n",
    "    freq2, mfrq, sfrq = freq_coevents(fdir,'ssp585',mhw_thr,drg_thr, models, y1,y2)\n",
    "    print(mfrq,sfrq)\n",
    "    return freq0,freq1,freq2"
   ]
  },
  {
   "cell_type": "code",
   "execution_count": 49,
   "metadata": {},
   "outputs": [],
   "source": [
    "# Frequency of events - detrended data, using pi control threshols\n",
    "## percentiles 90-10"
   ]
  },
  {
   "cell_type": "code",
   "execution_count": 65,
   "metadata": {
    "scrolled": true
   },
   "outputs": [
    {
     "name": "stdout",
     "output_type": "stream",
     "text": [
      "\n",
      "Percentiles: 90/10\n",
      "\n",
      "Probable # events in 30 years: 0.3\n",
      "Percentiles: 90/10\n",
      "piControl: 0-29\n",
      "0.2273 0.6696\n",
      "\n",
      "historical: 1900-1929\n",
      "1.0909 1.8807\n",
      "\n",
      "historical 2: 1985-2014\n",
      "5.2727 7.5208\n",
      "\n",
      "future: 2070-2099\n",
      "13.4091 10.4214\n",
      "Percentiles: 90/10\n",
      "piControl: 30-59\n",
      "0.5 0.5\n",
      "\n",
      "historical: 1900-1929\n",
      "1.5 2.7757\n",
      "\n",
      "historical 2: 1985-2014\n",
      "4.5 7.1271\n",
      "\n",
      "future: 2070-2099\n",
      "12.2727 11.1158\n",
      "Percentiles: 90/10\n",
      "piControl: 60-89\n",
      "0.1364 0.3432\n",
      "\n",
      "historical: 1900-1929\n",
      "1.1364 2.1169\n",
      "\n",
      "historical 2: 1985-2014\n",
      "4.8636 7.5576\n",
      "\n",
      "future: 2070-2099\n",
      "13.3636 11.344\n",
      "Percentiles: 90/10\n",
      "piControl: 90-119\n",
      "0.2727 0.4454\n",
      "\n",
      "historical: 1900-1929\n",
      "1.5 2.8881\n",
      "\n",
      "historical 2: 1985-2014\n",
      "5.0909 7.7101\n",
      "\n",
      "future: 2070-2099\n",
      "14.4091 11.1096\n",
      "Percentiles: 90/10\n",
      "piControl: 120-149\n",
      "0.1818 0.4896\n",
      "\n",
      "historical: 1900-1929\n",
      "1.1364 1.8901\n",
      "\n",
      "historical 2: 1985-2014\n",
      "4.8636 7.0472\n",
      "\n",
      "future: 2070-2099\n",
      "13.8636 10.3717\n",
      "Percentiles: 90/10\n",
      "piControl: 150-179\n",
      "0.1818 0.3857\n",
      "\n",
      "historical: 1900-1929\n",
      "1.2273 2.4667\n",
      "\n",
      "historical 2: 1985-2014\n",
      "4.4545 7.5301\n",
      "\n",
      "future: 2070-2099\n",
      "12.7273 11.2054\n",
      "Percentiles: 90/10\n",
      "piControl: 180-209\n",
      "0.2273 0.4191\n",
      "\n",
      "historical: 1900-1929\n",
      "1.4545 2.7258\n",
      "\n",
      "historical 2: 1985-2014\n",
      "5.4091 8.0941\n",
      "\n",
      "future: 2070-2099\n",
      "12.1818 11.1707\n",
      "Percentiles: 90/10\n",
      "piControl: 210-239\n",
      "0.1818 0.3857\n",
      "\n",
      "historical: 1900-1929\n",
      "1.3182 2.0973\n",
      "\n",
      "historical 2: 1985-2014\n",
      "5.3182 7.6121\n",
      "\n",
      "future: 2070-2099\n",
      "13.0 11.4535\n",
      "Percentiles: 90/10\n",
      "piControl: 240-269\n",
      "0.2727 0.4454\n",
      "\n",
      "historical: 1900-1929\n",
      "1.0455 1.821\n",
      "\n",
      "historical 2: 1985-2014\n",
      "5.3182 7.4674\n",
      "\n",
      "future: 2070-2099\n",
      "14.1818 11.5862\n",
      "Percentiles: 90/10\n",
      "piControl: 270-299\n",
      "0.2727 0.5378\n",
      "\n",
      "historical: 1900-1929\n",
      "0.9091 1.8807\n",
      "\n",
      "historical 2: 1985-2014\n",
      "4.5909 6.8534\n",
      "\n",
      "future: 2070-2099\n",
      "12.5909 10.8488\n",
      "Percentiles: 90/10\n",
      "piControl: 300-329\n",
      "0.2273 0.4191\n",
      "\n",
      "historical: 1900-1929\n",
      "0.9091 2.1301\n",
      "\n",
      "historical 2: 1985-2014\n",
      "4.2273 6.9866\n",
      "\n",
      "future: 2070-2099\n",
      "11.7727 10.9334\n",
      "Percentiles: 90/10\n",
      "piControl: 330-359\n",
      "0.2273 0.5979\n",
      "\n",
      "historical: 1900-1929\n",
      "1.0909 2.4292\n",
      "\n",
      "historical 2: 1985-2014\n",
      "4.6818 7.882\n",
      "\n",
      "future: 2070-2099\n",
      "11.9091 10.8163\n",
      "Percentiles: 90/10\n",
      "piControl: 360-389\n",
      "0.1818 0.3857\n",
      "\n",
      "historical: 1900-1929\n",
      "1.4091 2.3093\n",
      "\n",
      "historical 2: 1985-2014\n",
      "5.3182 7.8009\n",
      "\n",
      "future: 2070-2099\n",
      "13.5 11.4047\n",
      "Percentiles: 90/10\n",
      "piControl: 390-419\n",
      "0.0455 0.2083\n",
      "\n",
      "historical: 1900-1929\n",
      "1.0455 1.5515\n",
      "\n",
      "historical 2: 1985-2014\n",
      "4.8636 7.282\n",
      "\n",
      "future: 2070-2099\n",
      "12.9091 11.7895\n",
      "Percentiles: 90/10\n",
      "piControl: 420-449\n",
      "0.3182 0.5548\n",
      "\n",
      "historical: 1900-1929\n",
      "1.9091 2.6953\n",
      "\n",
      "historical 2: 1985-2014\n",
      "6.4091 7.981\n",
      "\n",
      "future: 2070-2099\n",
      "13.4545 11.4086\n",
      "Percentiles: 90/10\n",
      "piControl: 450-479\n",
      "0.1818 0.3857\n",
      "\n",
      "historical: 1900-1929\n",
      "1.3636 3.2689\n",
      "\n",
      "historical 2: 1985-2014\n",
      "4.1818 7.1899\n",
      "\n",
      "future: 2070-2099\n",
      "13.3636 11.5426\n"
     ]
    },
    {
     "data": {
      "text/plain": [
       "(13.056818181818182, 4.9602272727272725, 7.158204761173891)"
      ]
     },
     "execution_count": 65,
     "metadata": {},
     "output_type": "execute_result"
    }
   ],
   "source": [
    "\n",
    "print ('\\nPercentiles: '+str(prc1)+'/'+str(prc2))\n",
    "print('\\nProbable # events in '+str(ny)+' years'+': '+str(ny*0.01))\n",
    "\n",
    "funev=list()\n",
    "hinev=list()\n",
    "test=list()\n",
    "for i in range(int(500/ny)):\n",
    "    pi,hi,fu = freq_difruns(ny,i*ny, (i+1)*ny-1, prc1, prc2)\n",
    "    test.append(pi)\n",
    "    funev.append(fu)\n",
    "    hinev.append(hi)\n",
    "np.mean(funev),np.mean(hinev),np.std(np.mean(hinev,axis=0))"
   ]
  },
  {
   "cell_type": "code",
   "execution_count": 66,
   "metadata": {},
   "outputs": [
    {
     "data": {
      "text/plain": [
       "(0.22727272727272727, 0.22727272727272727)"
      ]
     },
     "execution_count": 66,
     "metadata": {},
     "output_type": "execute_result"
    }
   ],
   "source": [
    "np.mean(test),np.mean(pinev)"
   ]
  },
  {
   "cell_type": "code",
   "execution_count": 67,
   "metadata": {},
   "outputs": [],
   "source": [
    "#model by model"
   ]
  },
  {
   "cell_type": "code",
   "execution_count": 68,
   "metadata": {},
   "outputs": [
    {
     "data": {
      "text/plain": [
       "array([ 2.6875,  4.875 , 30.    , 20.625 ,  2.375 ,  1.125 , 17.9375,\n",
       "       29.75  , 30.    , 30.    , 23.3125, 25.75  ,  7.25  ,  0.0625,\n",
       "       12.125 ,  7.1875,  4.75  ,  6.    , 12.9375,  8.9375,  9.5625,\n",
       "        0.    ])"
      ]
     },
     "execution_count": 68,
     "metadata": {},
     "output_type": "execute_result"
    }
   ],
   "source": [
    "fu_model_mean=np.mean(funev,axis=0)\n",
    "fu_model_spread=np.std(funev,axis=0)\n",
    "fu_model_mean"
   ]
  },
  {
   "cell_type": "code",
   "execution_count": 69,
   "metadata": {},
   "outputs": [
    {
     "data": {
      "text/plain": [
       "(13.056818181818182, 10.605679443908448)"
      ]
     },
     "execution_count": 69,
     "metadata": {},
     "output_type": "execute_result"
    }
   ],
   "source": [
    "np.mean(fu_model_mean),np.std(fu_model_mean)"
   ]
  },
  {
   "cell_type": "code",
   "execution_count": 70,
   "metadata": {},
   "outputs": [],
   "source": [
    "#mme mean and spread"
   ]
  },
  {
   "cell_type": "code",
   "execution_count": 71,
   "metadata": {},
   "outputs": [
    {
     "data": {
      "text/plain": [
       "11.157641923692989"
      ]
     },
     "execution_count": 71,
     "metadata": {},
     "output_type": "execute_result"
    }
   ],
   "source": [
    "fu_mme_mean=np.mean(funev,axis=1)\n",
    "fu_mme_spread=np.std(funev,axis=1)\n",
    "np.mean(fu_mme_spread)"
   ]
  },
  {
   "cell_type": "code",
   "execution_count": 72,
   "metadata": {},
   "outputs": [
    {
     "data": {
      "text/plain": [
       "(array([13.40909091, 12.27272727, 13.36363636, 14.40909091, 13.86363636,\n",
       "        12.72727273, 12.18181818, 13.        , 14.18181818, 12.59090909,\n",
       "        11.77272727, 11.90909091, 13.5       , 12.90909091, 13.45454545,\n",
       "        13.36363636]),\n",
       " 13.056818181818182,\n",
       " 0.7545488773197284)"
      ]
     },
     "execution_count": 72,
     "metadata": {},
     "output_type": "execute_result"
    }
   ],
   "source": [
    "fu_mme_mean,np.mean(fu_mme_mean),np.std(fu_mme_mean)"
   ]
  },
  {
   "cell_type": "code",
   "execution_count": 73,
   "metadata": {},
   "outputs": [],
   "source": [
    "#16 MMEs diff and spread"
   ]
  },
  {
   "cell_type": "code",
   "execution_count": 74,
   "metadata": {},
   "outputs": [
    {
     "data": {
      "text/plain": [
       "[13.181818181818182,\n",
       " 11.772727272727273,\n",
       " 13.227272727272727,\n",
       " 14.136363636363635,\n",
       " 13.681818181818182,\n",
       " 12.545454545454545,\n",
       " 11.954545454545455,\n",
       " 12.818181818181818,\n",
       " 13.909090909090908,\n",
       " 12.318181818181818,\n",
       " 11.545454545454547,\n",
       " 11.681818181818182,\n",
       " 13.318181818181818,\n",
       " 12.863636363636363,\n",
       " 13.136363636363637,\n",
       " 13.181818181818182]"
      ]
     },
     "execution_count": 74,
     "metadata": {},
     "output_type": "execute_result"
    }
   ],
   "source": [
    "diff=list()\n",
    "zip_obj=zip(fu_mme_mean,mme_mean)\n",
    "for i , j in zip_obj:\n",
    "        diff.append(i-j)\n",
    "diff"
   ]
  },
  {
   "cell_type": "code",
   "execution_count": 75,
   "metadata": {},
   "outputs": [
    {
     "data": {
      "text/plain": [
       "(12.829545454545455, 0.7718076078084963)"
      ]
     },
     "execution_count": 75,
     "metadata": {},
     "output_type": "execute_result"
    }
   ],
   "source": [
    "diff_mean=np.mean(diff)\n",
    "diff_spread=np.std(diff)\n",
    "diff_mean,diff_spread"
   ]
  },
  {
   "cell_type": "code",
   "execution_count": 76,
   "metadata": {},
   "outputs": [],
   "source": [
    "#model by model diff and spread"
   ]
  },
  {
   "cell_type": "code",
   "execution_count": 77,
   "metadata": {
    "scrolled": true
   },
   "outputs": [
    {
     "data": {
      "text/plain": [
       "[2.4375,\n",
       " 4.875,\n",
       " 29.8125,\n",
       " 20.375,\n",
       " 2.25,\n",
       " 1.0,\n",
       " 17.625,\n",
       " 29.5,\n",
       " 29.9375,\n",
       " 29.8125,\n",
       " 22.875,\n",
       " 25.375,\n",
       " 6.9375,\n",
       " 0.0625,\n",
       " 11.4375,\n",
       " 7.0625,\n",
       " 4.5625,\n",
       " 5.625,\n",
       " 12.6875,\n",
       " 8.75,\n",
       " 9.4375,\n",
       " -0.1875]"
      ]
     },
     "execution_count": 77,
     "metadata": {},
     "output_type": "execute_result"
    }
   ],
   "source": [
    "diff=list()\n",
    "zip_obj=zip(fu_model_mean,model_mean)\n",
    "for i , j in zip_obj:\n",
    "        diff.append(i-j)\n",
    "diff"
   ]
  },
  {
   "cell_type": "code",
   "execution_count": 78,
   "metadata": {},
   "outputs": [
    {
     "data": {
      "text/plain": [
       "(12.829545454545455, 10.573474359010909)"
      ]
     },
     "execution_count": 78,
     "metadata": {},
     "output_type": "execute_result"
    }
   ],
   "source": [
    "diff_mean=np.mean(diff)\n",
    "diff_spread=np.std(diff)\n",
    "diff_mean,diff_spread"
   ]
  },
  {
   "cell_type": "code",
   "execution_count": null,
   "metadata": {},
   "outputs": [],
   "source": []
  },
  {
   "cell_type": "code",
   "execution_count": null,
   "metadata": {},
   "outputs": [],
   "source": []
  }
 ],
 "metadata": {
  "kernelspec": {
   "display_name": "Python 3",
   "language": "python",
   "name": "python3"
  },
  "language_info": {
   "codemirror_mode": {
    "name": "ipython",
    "version": 3
   },
   "file_extension": ".py",
   "mimetype": "text/x-python",
   "name": "python",
   "nbconvert_exporter": "python",
   "pygments_lexer": "ipython3",
   "version": "3.7.6"
  }
 },
 "nbformat": 4,
 "nbformat_minor": 4
}
