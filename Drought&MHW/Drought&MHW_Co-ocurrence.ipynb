{
 "cells": [
  {
   "cell_type": "markdown",
   "metadata": {},
   "source": [
    "# Co-ocurrence of Extreme Drought and Marine Heat Waves in the California Current\n",
    "\n",
    "# <font color=blue>Hypothesis:</font>\n",
    "## <font color=blue>Will extreme droughts and marine heat waves occur simultaneously more often because of anthropogenic climate change? </font>\n",
    "\n",
    "### We will test this hypothesis by comparinig the number of co-ocurring events in CMIP6 climate models for control, historical and future runs.\n",
    "\n",
    "### We define extreme droughts as  years below the 10% long-term average of California 2m soil moisture July-June mean values\n",
    "\n",
    "### We define marine heatwaves as years above the 90% long-term average of California Current Sea Surface Temperature July-June mean values"
   ]
  },
  {
   "cell_type": "code",
   "execution_count": null,
   "metadata": {},
   "outputs": [],
   "source": []
  }
 ],
 "metadata": {
  "kernelspec": {
   "display_name": "Python 3",
   "language": "python",
   "name": "python3"
  },
  "language_info": {
   "codemirror_mode": {
    "name": "ipython",
    "version": 3
   },
   "file_extension": ".py",
   "mimetype": "text/x-python",
   "name": "python",
   "nbconvert_exporter": "python",
   "pygments_lexer": "ipython3",
   "version": "3.7.6"
  }
 },
 "nbformat": 4,
 "nbformat_minor": 4
}
