{
 "cells": [
  {
   "cell_type": "markdown",
   "metadata": {},
   "source": [
    "# Co-ocurrence of Extreme Drought and Marine Heat Waves in the California Current\n",
    "\n",
    "# <font color=blue>Hypothesis:</font>\n",
    "## <font color=blue>Will extreme droughts and marine heat waves occur simultaneously more often because of anthropogenic climate change? </font>\n",
    "\n",
    "### We will test this hypothesis by comparinig the number of co-ocurring events in CMIP6 climate models for control, historical and future runs.\n",
    "\n",
    "### We define extreme droughts as  years below the 10% long-term average of California 2m soil moisture July-June mean values\n",
    "\n",
    "### We define marine heatwaves as years above the 90% long-term average of California Current Sea Surface Temperature July-June mean values"
   ]
  },
  {
   "cell_type": "code",
   "execution_count": 5,
   "metadata": {},
   "outputs": [],
   "source": [
    "# Some definitions\n",
    "\n",
    "# directory of data\n",
    "fdir = '~/Google Drive/professional/research/FARALLON_INSTITUTE_PROJECTS/2020 NOAA MAPP/Climate_extremes_sharedfigsandcode/data/FOR SCATTER PLOT/'"
   ]
  },
  {
   "cell_type": "code",
   "execution_count": 2,
   "metadata": {},
   "outputs": [],
   "source": [
    "# Libraries \n",
    "\n",
    "import xarray as xr\n",
    "import numpy as np\n",
    "import pandas as pd\n",
    "import matplotlib.pyplot as plt\n",
    "import warnings\n",
    "warnings.simplefilter('ignore') #filter some warning messages\n",
    "import seaborn as sns\n",
    "from sklearn.decomposition import PCA\n",
    "from sklearn.preprocessing import StandardScaler\n",
    "\n",
    "# personal functions\n"
   ]
  },
  {
   "cell_type": "markdown",
   "metadata": {},
   "source": [
    "## Calculate thresholds for PI Control runs"
   ]
  },
  {
   "cell_type": "code",
   "execution_count": 21,
   "metadata": {},
   "outputs": [],
   "source": [
    "# open data: anomalies (without trend)\n",
    "modsst = xr.open_dataset(fdir+'anomaly ts/picontrol_sst_anom.nc')\n",
    "modsst.close()\n",
    "modsm2 = xr.open_dataset(fdir+'anomaly ts/picontrol_sm_anom.nc')\n",
    "modsm2.close()\n",
    "\n",
    "# select period\n",
    "y1=1935\n",
    "y2=2014\n",
    "modsst = modsst.sel(year=slice(y1,y2))\n",
    "modsm2 = modsm2.sel(year=slice(y1,y2))\n",
    "mhw_thr = list()\n",
    "drg_thr = list()\n",
    "models = list()\n",
    "\n",
    "# Calculate thresholds for each model\n",
    "for ix,i in enumerate(modsm2.model.values):\n",
    "    tmp1= modsst.sel(model=i).sst.values\n",
    "    tmp2= modsm2.sel(model=i).sm.values\n",
    "    \n",
    "    drg_thr.append(np.percentile(tmp2,10))\n",
    "    mhw_thr.append(np.percentile(tmp1,90))\n",
    "    \n",
    "    models.append(i)"
   ]
  },
  {
   "cell_type": "code",
   "execution_count": 51,
   "metadata": {},
   "outputs": [
    {
     "name": "stdout",
     "output_type": "stream",
     "text": [
      "[0, 0, 0, 2, 1, 0, 1, 1, 0, 0, 0, 2, 2, 0, 0, 0, 0, 1, 0, 0, 0, 0]\n"
     ]
    }
   ],
   "source": [
    "# calculate number of events for control, historical and future\n",
    "# based on pi control thresholds\n",
    "\n",
    "def num_coevents(fdir,runs, mhw_thr, drg_thr):\n",
    "    #pi control\n",
    "    fi1 = fdir+'anomaly ts/+'runs'+_sst_anom.nc'\n",
    "    fi2 = fdir+'anomaly ts/+'runs'+_sm_anom.nc'\n",
    "    modsst = xr.open_dataset(fi1)\n",
    "modsst.close()\n",
    "modsm2 = xr.open_dataset(fdir+'anomaly ts/picontrol_sm_anom.nc')\n",
    "modsm2.close()\n",
    "\n",
    "# select period\n",
    "y1=1935\n",
    "y2=2014\n",
    "modsst = modsst.sel(year=slice(y1,y2))\n",
    "modsm2 = modsm2.sel(year=slice(y1,y2))\n",
    "\n",
    "nev = list()\n",
    "\n",
    "for ix,i in enumerate(models):\n",
    "    #print(ix,i)\n",
    "    tmp1= modsst.sel(model=i).sst.values\n",
    "    tmp2= modsm2.sel(model=i).sm.values\n",
    "    \n",
    "    a1 = tmp1>=mhw_thr[ix]\n",
    "    a2 = tmp2<=drg_thr[ix]\n",
    "    tmp = np.full((len(modsst.year.values),1),1)\n",
    "    tmp = tmp[a1*a2]\n",
    "    \n",
    "    nev.append(len(tmp))\n",
    "    \n",
    "print(nev)"
   ]
  },
  {
   "cell_type": "code",
   "execution_count": 50,
   "metadata": {},
   "outputs": [
    {
     "data": {
      "text/plain": [
       "0"
      ]
     },
     "execution_count": 50,
     "metadata": {},
     "output_type": "execute_result"
    }
   ],
   "source": [
    "len(tmp)"
   ]
  },
  {
   "cell_type": "code",
   "execution_count": null,
   "metadata": {},
   "outputs": [],
   "source": []
  }
 ],
 "metadata": {
  "kernelspec": {
   "display_name": "Python 3",
   "language": "python",
   "name": "python3"
  },
  "language_info": {
   "codemirror_mode": {
    "name": "ipython",
    "version": 3
   },
   "file_extension": ".py",
   "mimetype": "text/x-python",
   "name": "python",
   "nbconvert_exporter": "python",
   "pygments_lexer": "ipython3",
   "version": "3.7.6"
  }
 },
 "nbformat": 4,
 "nbformat_minor": 4
}
